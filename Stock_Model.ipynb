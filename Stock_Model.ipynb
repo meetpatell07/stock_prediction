{
  "nbformat": 4,
  "nbformat_minor": 0,
  "metadata": {
    "colab": {
      "provenance": []
    },
    "kernelspec": {
      "name": "python3",
      "display_name": "Python 3"
    },
    "language_info": {
      "name": "python"
    }
  },
  "cells": [
    {
      "cell_type": "code",
      "execution_count": null,
      "metadata": {
        "id": "1tMn6fvu0u8B"
      },
      "outputs": [],
      "source": [
        "# Building a Model where it predict if the tomorrow stock will be higher or lower"
      ]
    },
    {
      "cell_type": "code",
      "source": [
        "# Data manipulation and analysis\n",
        "import pandas as pd\n",
        "import numpy as np\n",
        "from sklearn.preprocessing import StandardScaler\n",
        "\n",
        "# Data visualization\n",
        "import plotly.graph_objects as go\n",
        "\n",
        "# Machine learning and deep learning\n",
        "from sklearn.model_selection import train_test_split\n",
        "import tensorflow as tf\n",
        "from tensorflow.keras.models import Sequential\n",
        "from tensorflow.keras.layers import LSTM, Dropout, Dense\n",
        "from tensorflow.keras.optimizers import Adam\n",
        "\n",
        "# Technical indicators (optional)\n",
        "# import talib as ta  # For technical analysis indicators like SMA, RSI, etc.\n"
      ],
      "metadata": {
        "id": "uJpWe2HbJEY-"
      },
      "execution_count": 111,
      "outputs": []
    },
    {
      "cell_type": "code",
      "source": [
        "# Fetching stock data of apple stock\n",
        "import yfinance as yf\n",
        "\n",
        "# Define the stock symbol for Apple\n",
        "symbol = \"NVDA\"\n",
        "\n",
        "# Fetch historical data (adjust the period and interval as needed)\n",
        "df = yf.download(symbol, period=\"1y\", interval=\"1d\")\n",
        "\n",
        "# Show the first few rows of the data\n",
        "df.head()\n"
      ],
      "metadata": {
        "colab": {
          "base_uri": "https://localhost:8080/",
          "height": 286
        },
        "id": "WI2IgiRBJFP6",
        "outputId": "9655bf50-916b-4697-ac40-a1ce74046b92"
      },
      "execution_count": 112,
      "outputs": [
        {
          "output_type": "stream",
          "name": "stderr",
          "text": [
            "\r[*********************100%***********************]  1 of 1 completed\n"
          ]
        },
        {
          "output_type": "execute_result",
          "data": {
            "text/plain": [
              "Price           Close       High        Low       Open     Volume\n",
              "Ticker           NVDA       NVDA       NVDA       NVDA       NVDA\n",
              "Date                                                             \n",
              "2024-04-10  87.010406  87.371288  83.681499  83.898430  431929000\n",
              "2024-04-11  90.586235  90.709196  86.897452  87.391286  431637000\n",
              "2024-04-12  88.157028  90.145381  87.501245  89.669532  426805000\n",
              "2024-04-15  85.972748  90.583232  85.900773  89.068731  443077000\n",
              "2024-04-16  87.386284  88.089048  86.035730  86.404604  370453000"
            ],
            "text/html": [
              "\n",
              "  <div id=\"df-f73f22e7-935e-43a7-ac66-bb4e4e855466\" class=\"colab-df-container\">\n",
              "    <div>\n",
              "<style scoped>\n",
              "    .dataframe tbody tr th:only-of-type {\n",
              "        vertical-align: middle;\n",
              "    }\n",
              "\n",
              "    .dataframe tbody tr th {\n",
              "        vertical-align: top;\n",
              "    }\n",
              "\n",
              "    .dataframe thead tr th {\n",
              "        text-align: left;\n",
              "    }\n",
              "\n",
              "    .dataframe thead tr:last-of-type th {\n",
              "        text-align: right;\n",
              "    }\n",
              "</style>\n",
              "<table border=\"1\" class=\"dataframe\">\n",
              "  <thead>\n",
              "    <tr>\n",
              "      <th>Price</th>\n",
              "      <th>Close</th>\n",
              "      <th>High</th>\n",
              "      <th>Low</th>\n",
              "      <th>Open</th>\n",
              "      <th>Volume</th>\n",
              "    </tr>\n",
              "    <tr>\n",
              "      <th>Ticker</th>\n",
              "      <th>NVDA</th>\n",
              "      <th>NVDA</th>\n",
              "      <th>NVDA</th>\n",
              "      <th>NVDA</th>\n",
              "      <th>NVDA</th>\n",
              "    </tr>\n",
              "    <tr>\n",
              "      <th>Date</th>\n",
              "      <th></th>\n",
              "      <th></th>\n",
              "      <th></th>\n",
              "      <th></th>\n",
              "      <th></th>\n",
              "    </tr>\n",
              "  </thead>\n",
              "  <tbody>\n",
              "    <tr>\n",
              "      <th>2024-04-10</th>\n",
              "      <td>87.010406</td>\n",
              "      <td>87.371288</td>\n",
              "      <td>83.681499</td>\n",
              "      <td>83.898430</td>\n",
              "      <td>431929000</td>\n",
              "    </tr>\n",
              "    <tr>\n",
              "      <th>2024-04-11</th>\n",
              "      <td>90.586235</td>\n",
              "      <td>90.709196</td>\n",
              "      <td>86.897452</td>\n",
              "      <td>87.391286</td>\n",
              "      <td>431637000</td>\n",
              "    </tr>\n",
              "    <tr>\n",
              "      <th>2024-04-12</th>\n",
              "      <td>88.157028</td>\n",
              "      <td>90.145381</td>\n",
              "      <td>87.501245</td>\n",
              "      <td>89.669532</td>\n",
              "      <td>426805000</td>\n",
              "    </tr>\n",
              "    <tr>\n",
              "      <th>2024-04-15</th>\n",
              "      <td>85.972748</td>\n",
              "      <td>90.583232</td>\n",
              "      <td>85.900773</td>\n",
              "      <td>89.068731</td>\n",
              "      <td>443077000</td>\n",
              "    </tr>\n",
              "    <tr>\n",
              "      <th>2024-04-16</th>\n",
              "      <td>87.386284</td>\n",
              "      <td>88.089048</td>\n",
              "      <td>86.035730</td>\n",
              "      <td>86.404604</td>\n",
              "      <td>370453000</td>\n",
              "    </tr>\n",
              "  </tbody>\n",
              "</table>\n",
              "</div>\n",
              "    <div class=\"colab-df-buttons\">\n",
              "\n",
              "  <div class=\"colab-df-container\">\n",
              "    <button class=\"colab-df-convert\" onclick=\"convertToInteractive('df-f73f22e7-935e-43a7-ac66-bb4e4e855466')\"\n",
              "            title=\"Convert this dataframe to an interactive table.\"\n",
              "            style=\"display:none;\">\n",
              "\n",
              "  <svg xmlns=\"http://www.w3.org/2000/svg\" height=\"24px\" viewBox=\"0 -960 960 960\">\n",
              "    <path d=\"M120-120v-720h720v720H120Zm60-500h600v-160H180v160Zm220 220h160v-160H400v160Zm0 220h160v-160H400v160ZM180-400h160v-160H180v160Zm440 0h160v-160H620v160ZM180-180h160v-160H180v160Zm440 0h160v-160H620v160Z\"/>\n",
              "  </svg>\n",
              "    </button>\n",
              "\n",
              "  <style>\n",
              "    .colab-df-container {\n",
              "      display:flex;\n",
              "      gap: 12px;\n",
              "    }\n",
              "\n",
              "    .colab-df-convert {\n",
              "      background-color: #E8F0FE;\n",
              "      border: none;\n",
              "      border-radius: 50%;\n",
              "      cursor: pointer;\n",
              "      display: none;\n",
              "      fill: #1967D2;\n",
              "      height: 32px;\n",
              "      padding: 0 0 0 0;\n",
              "      width: 32px;\n",
              "    }\n",
              "\n",
              "    .colab-df-convert:hover {\n",
              "      background-color: #E2EBFA;\n",
              "      box-shadow: 0px 1px 2px rgba(60, 64, 67, 0.3), 0px 1px 3px 1px rgba(60, 64, 67, 0.15);\n",
              "      fill: #174EA6;\n",
              "    }\n",
              "\n",
              "    .colab-df-buttons div {\n",
              "      margin-bottom: 4px;\n",
              "    }\n",
              "\n",
              "    [theme=dark] .colab-df-convert {\n",
              "      background-color: #3B4455;\n",
              "      fill: #D2E3FC;\n",
              "    }\n",
              "\n",
              "    [theme=dark] .colab-df-convert:hover {\n",
              "      background-color: #434B5C;\n",
              "      box-shadow: 0px 1px 3px 1px rgba(0, 0, 0, 0.15);\n",
              "      filter: drop-shadow(0px 1px 2px rgba(0, 0, 0, 0.3));\n",
              "      fill: #FFFFFF;\n",
              "    }\n",
              "  </style>\n",
              "\n",
              "    <script>\n",
              "      const buttonEl =\n",
              "        document.querySelector('#df-f73f22e7-935e-43a7-ac66-bb4e4e855466 button.colab-df-convert');\n",
              "      buttonEl.style.display =\n",
              "        google.colab.kernel.accessAllowed ? 'block' : 'none';\n",
              "\n",
              "      async function convertToInteractive(key) {\n",
              "        const element = document.querySelector('#df-f73f22e7-935e-43a7-ac66-bb4e4e855466');\n",
              "        const dataTable =\n",
              "          await google.colab.kernel.invokeFunction('convertToInteractive',\n",
              "                                                    [key], {});\n",
              "        if (!dataTable) return;\n",
              "\n",
              "        const docLinkHtml = 'Like what you see? Visit the ' +\n",
              "          '<a target=\"_blank\" href=https://colab.research.google.com/notebooks/data_table.ipynb>data table notebook</a>'\n",
              "          + ' to learn more about interactive tables.';\n",
              "        element.innerHTML = '';\n",
              "        dataTable['output_type'] = 'display_data';\n",
              "        await google.colab.output.renderOutput(dataTable, element);\n",
              "        const docLink = document.createElement('div');\n",
              "        docLink.innerHTML = docLinkHtml;\n",
              "        element.appendChild(docLink);\n",
              "      }\n",
              "    </script>\n",
              "  </div>\n",
              "\n",
              "\n",
              "<div id=\"df-bf12cf85-ce5f-46c0-ba56-5891d9126a7b\">\n",
              "  <button class=\"colab-df-quickchart\" onclick=\"quickchart('df-bf12cf85-ce5f-46c0-ba56-5891d9126a7b')\"\n",
              "            title=\"Suggest charts\"\n",
              "            style=\"display:none;\">\n",
              "\n",
              "<svg xmlns=\"http://www.w3.org/2000/svg\" height=\"24px\"viewBox=\"0 0 24 24\"\n",
              "     width=\"24px\">\n",
              "    <g>\n",
              "        <path d=\"M19 3H5c-1.1 0-2 .9-2 2v14c0 1.1.9 2 2 2h14c1.1 0 2-.9 2-2V5c0-1.1-.9-2-2-2zM9 17H7v-7h2v7zm4 0h-2V7h2v10zm4 0h-2v-4h2v4z\"/>\n",
              "    </g>\n",
              "</svg>\n",
              "  </button>\n",
              "\n",
              "<style>\n",
              "  .colab-df-quickchart {\n",
              "      --bg-color: #E8F0FE;\n",
              "      --fill-color: #1967D2;\n",
              "      --hover-bg-color: #E2EBFA;\n",
              "      --hover-fill-color: #174EA6;\n",
              "      --disabled-fill-color: #AAA;\n",
              "      --disabled-bg-color: #DDD;\n",
              "  }\n",
              "\n",
              "  [theme=dark] .colab-df-quickchart {\n",
              "      --bg-color: #3B4455;\n",
              "      --fill-color: #D2E3FC;\n",
              "      --hover-bg-color: #434B5C;\n",
              "      --hover-fill-color: #FFFFFF;\n",
              "      --disabled-bg-color: #3B4455;\n",
              "      --disabled-fill-color: #666;\n",
              "  }\n",
              "\n",
              "  .colab-df-quickchart {\n",
              "    background-color: var(--bg-color);\n",
              "    border: none;\n",
              "    border-radius: 50%;\n",
              "    cursor: pointer;\n",
              "    display: none;\n",
              "    fill: var(--fill-color);\n",
              "    height: 32px;\n",
              "    padding: 0;\n",
              "    width: 32px;\n",
              "  }\n",
              "\n",
              "  .colab-df-quickchart:hover {\n",
              "    background-color: var(--hover-bg-color);\n",
              "    box-shadow: 0 1px 2px rgba(60, 64, 67, 0.3), 0 1px 3px 1px rgba(60, 64, 67, 0.15);\n",
              "    fill: var(--button-hover-fill-color);\n",
              "  }\n",
              "\n",
              "  .colab-df-quickchart-complete:disabled,\n",
              "  .colab-df-quickchart-complete:disabled:hover {\n",
              "    background-color: var(--disabled-bg-color);\n",
              "    fill: var(--disabled-fill-color);\n",
              "    box-shadow: none;\n",
              "  }\n",
              "\n",
              "  .colab-df-spinner {\n",
              "    border: 2px solid var(--fill-color);\n",
              "    border-color: transparent;\n",
              "    border-bottom-color: var(--fill-color);\n",
              "    animation:\n",
              "      spin 1s steps(1) infinite;\n",
              "  }\n",
              "\n",
              "  @keyframes spin {\n",
              "    0% {\n",
              "      border-color: transparent;\n",
              "      border-bottom-color: var(--fill-color);\n",
              "      border-left-color: var(--fill-color);\n",
              "    }\n",
              "    20% {\n",
              "      border-color: transparent;\n",
              "      border-left-color: var(--fill-color);\n",
              "      border-top-color: var(--fill-color);\n",
              "    }\n",
              "    30% {\n",
              "      border-color: transparent;\n",
              "      border-left-color: var(--fill-color);\n",
              "      border-top-color: var(--fill-color);\n",
              "      border-right-color: var(--fill-color);\n",
              "    }\n",
              "    40% {\n",
              "      border-color: transparent;\n",
              "      border-right-color: var(--fill-color);\n",
              "      border-top-color: var(--fill-color);\n",
              "    }\n",
              "    60% {\n",
              "      border-color: transparent;\n",
              "      border-right-color: var(--fill-color);\n",
              "    }\n",
              "    80% {\n",
              "      border-color: transparent;\n",
              "      border-right-color: var(--fill-color);\n",
              "      border-bottom-color: var(--fill-color);\n",
              "    }\n",
              "    90% {\n",
              "      border-color: transparent;\n",
              "      border-bottom-color: var(--fill-color);\n",
              "    }\n",
              "  }\n",
              "</style>\n",
              "\n",
              "  <script>\n",
              "    async function quickchart(key) {\n",
              "      const quickchartButtonEl =\n",
              "        document.querySelector('#' + key + ' button');\n",
              "      quickchartButtonEl.disabled = true;  // To prevent multiple clicks.\n",
              "      quickchartButtonEl.classList.add('colab-df-spinner');\n",
              "      try {\n",
              "        const charts = await google.colab.kernel.invokeFunction(\n",
              "            'suggestCharts', [key], {});\n",
              "      } catch (error) {\n",
              "        console.error('Error during call to suggestCharts:', error);\n",
              "      }\n",
              "      quickchartButtonEl.classList.remove('colab-df-spinner');\n",
              "      quickchartButtonEl.classList.add('colab-df-quickchart-complete');\n",
              "    }\n",
              "    (() => {\n",
              "      let quickchartButtonEl =\n",
              "        document.querySelector('#df-bf12cf85-ce5f-46c0-ba56-5891d9126a7b button');\n",
              "      quickchartButtonEl.style.display =\n",
              "        google.colab.kernel.accessAllowed ? 'block' : 'none';\n",
              "    })();\n",
              "  </script>\n",
              "</div>\n",
              "\n",
              "    </div>\n",
              "  </div>\n"
            ],
            "application/vnd.google.colaboratory.intrinsic+json": {
              "type": "dataframe",
              "variable_name": "df",
              "summary": "{\n  \"name\": \"df\",\n  \"rows\": 252,\n  \"fields\": [\n    {\n      \"column\": [\n        \"Date\",\n        \"\"\n      ],\n      \"properties\": {\n        \"dtype\": \"date\",\n        \"min\": \"2024-04-10 00:00:00\",\n        \"max\": \"2025-04-10 00:00:00\",\n        \"num_unique_values\": 252,\n        \"samples\": [\n          \"2024-12-04 00:00:00\",\n          \"2024-04-18 00:00:00\",\n          \"2024-09-18 00:00:00\"\n        ],\n        \"semantic_type\": \"\",\n        \"description\": \"\"\n      }\n    },\n    {\n      \"column\": [\n        \"Close\",\n        \"NVDA\"\n      ],\n      \"properties\": {\n        \"dtype\": \"number\",\n        \"std\": 17.252636154432928,\n        \"min\": 76.17496490478516,\n        \"max\": 149.41624450683594,\n        \"num_unique_values\": 249,\n        \"samples\": [\n          141.51722717285156,\n          84.6431884765625,\n          117.56101989746094\n        ],\n        \"semantic_type\": \"\",\n        \"description\": \"\"\n      }\n    },\n    {\n      \"column\": [\n        \"High\",\n        \"NVDA\"\n      ],\n      \"properties\": {\n        \"dtype\": \"number\",\n        \"std\": 17.29338470293309,\n        \"min\": 80.04669267273574,\n        \"max\": 153.1159160516902,\n        \"num_unique_values\": 252,\n        \"samples\": [\n          145.76654278655016,\n          86.16169439997329,\n          117.68105834506785\n        ],\n        \"semantic_type\": \"\",\n        \"description\": \"\"\n      }\n    },\n    {\n      \"column\": [\n        \"Low\",\n        \"NVDA\"\n      ],\n      \"properties\": {\n        \"dtype\": \"number\",\n        \"std\": 17.29045338479954,\n        \"min\": 75.58116589392048,\n        \"max\": 147.80640728049391,\n        \"num_unique_values\": 252,\n        \"samples\": [\n          140.26742746830917,\n          82.37493650827429,\n          113.20178347448297\n        ],\n        \"semantic_type\": \"\",\n        \"description\": \"\"\n      }\n    },\n    {\n      \"column\": [\n        \"Open\",\n        \"NVDA\"\n      ],\n      \"properties\": {\n        \"dtype\": \"number\",\n        \"std\": 17.511902777654186,\n        \"min\": 78.07833775408314,\n        \"max\": 153.0159191493047,\n        \"num_unique_values\": 252,\n        \"samples\": [\n          141.97715912549498,\n          84.94209387359811,\n          115.87135202544096\n        ],\n        \"semantic_type\": \"\",\n        \"description\": \"\"\n      }\n    },\n    {\n      \"column\": [\n        \"Volume\",\n        \"NVDA\"\n      ],\n      \"properties\": {\n        \"dtype\": \"number\",\n        \"std\": 128494943,\n        \"min\": 105157000,\n        \"max\": 875198000,\n        \"num_unique_values\": 252,\n        \"samples\": [\n          231224300,\n          447260000,\n          310318900\n        ],\n        \"semantic_type\": \"\",\n        \"description\": \"\"\n      }\n    }\n  ]\n}"
            }
          },
          "metadata": {},
          "execution_count": 112
        }
      ]
    },
    {
      "cell_type": "code",
      "source": [
        "print(df.columns)"
      ],
      "metadata": {
        "colab": {
          "base_uri": "https://localhost:8080/"
        },
        "id": "NsDrHcVW7iWl",
        "outputId": "d89d89bc-bb7a-42dd-ace5-e72f7ddab84b"
      },
      "execution_count": 113,
      "outputs": [
        {
          "output_type": "stream",
          "name": "stdout",
          "text": [
            "MultiIndex([( 'Close', 'NVDA'),\n",
            "            (  'High', 'NVDA'),\n",
            "            (   'Low', 'NVDA'),\n",
            "            (  'Open', 'NVDA'),\n",
            "            ('Volume', 'NVDA')],\n",
            "           names=['Price', 'Ticker'])\n"
          ]
        }
      ]
    },
    {
      "cell_type": "code",
      "source": [
        "# Show the first few rows of the data\n",
        "print(\"First few rows of the fetched data:\")\n",
        "print(df.head())\n",
        "print(df.columns)\n",
        "\n",
        "# Flatten multi-level column index (if it exists)\n",
        "df.columns = [' '.join(col).strip() if isinstance(col, tuple) else col for col in df.columns.values]\n",
        "\n",
        "# remoce MSFT from the column\n",
        "df.columns = df.columns.str.replace(f'{symbol}', '', regex=False)\n",
        "df.columns = df.columns.str.strip()\n",
        "\n",
        "\n",
        "# Now you can check the data with flattened columns\n",
        "print(\"\\nFirst few rows after flattening columns:\")\n",
        "print(df.head())\n",
        "print(df.columns)\n",
        "\n",
        "# Check if the data contains NaNs for any required columns\n",
        "# print(\"\\nChecking for missing values in the data:\")\n",
        "# print(df.isna().sum())\n",
        "\n",
        "# # Now try printing the first few rows of SMA columns\n",
        "# print(df[['SMA 5', 'SMA 20', 'SMA 50']].head())"
      ],
      "metadata": {
        "colab": {
          "base_uri": "https://localhost:8080/"
        },
        "id": "ht69RWnf5iCI",
        "outputId": "9fe5273f-2047-4f36-eb5f-5ef702b62210"
      },
      "execution_count": 114,
      "outputs": [
        {
          "output_type": "stream",
          "name": "stdout",
          "text": [
            "First few rows of the fetched data:\n",
            "Price           Close       High        Low       Open     Volume\n",
            "Ticker           NVDA       NVDA       NVDA       NVDA       NVDA\n",
            "Date                                                             \n",
            "2024-04-10  87.010406  87.371288  83.681499  83.898430  431929000\n",
            "2024-04-11  90.586235  90.709196  86.897452  87.391286  431637000\n",
            "2024-04-12  88.157028  90.145381  87.501245  89.669532  426805000\n",
            "2024-04-15  85.972748  90.583232  85.900773  89.068731  443077000\n",
            "2024-04-16  87.386284  88.089048  86.035730  86.404604  370453000\n",
            "MultiIndex([( 'Close', 'NVDA'),\n",
            "            (  'High', 'NVDA'),\n",
            "            (   'Low', 'NVDA'),\n",
            "            (  'Open', 'NVDA'),\n",
            "            ('Volume', 'NVDA')],\n",
            "           names=['Price', 'Ticker'])\n",
            "\n",
            "First few rows after flattening columns:\n",
            "                Close       High        Low       Open     Volume\n",
            "Date                                                             \n",
            "2024-04-10  87.010406  87.371288  83.681499  83.898430  431929000\n",
            "2024-04-11  90.586235  90.709196  86.897452  87.391286  431637000\n",
            "2024-04-12  88.157028  90.145381  87.501245  89.669532  426805000\n",
            "2024-04-15  85.972748  90.583232  85.900773  89.068731  443077000\n",
            "2024-04-16  87.386284  88.089048  86.035730  86.404604  370453000\n",
            "Index(['Close', 'High', 'Low', 'Open', 'Volume'], dtype='object')\n"
          ]
        }
      ]
    },
    {
      "cell_type": "code",
      "source": [
        "# Function to add technical indicators (SMA, RSI, etc.)\n",
        "def add_indicators(df):\n",
        "    # Calculate SMAs\n",
        "    df['SMA 5'] = df['Close'].rolling(window=5).mean()\n",
        "    df['SMA 20'] = df['Close'].rolling(window=20).mean()\n",
        "    df['SMA 50'] = df['Close'].rolling(window=50).mean()\n",
        "\n",
        "    # Calculate price changes\n",
        "    df['Price Change'] = df['Close'].pct_change()\n",
        "\n",
        "    # Calculate target (1 if tomorrow's price is higher, 0 if lower)\n",
        "    df['Target'] = (df['Close'].shift(-1) > df['Close']).astype(int)\n",
        "\n",
        "    # Calculate RSI (Relative Strength Index)\n",
        "    delta = df['Close'].diff()\n",
        "    gain = (delta.where(delta > 0, 0).rolling(window=14).mean())\n",
        "    loss = (-delta.where(delta < 0, 0).rolling(window=14).mean())\n",
        "    rs = gain / loss\n",
        "    df['RSI'] = 100 - (100 / (1 + rs))\n",
        "\n",
        "    return df\n",
        "\n",
        "# Apply the indicator function to the data\n",
        "df = add_indicators(df)\n",
        "\n",
        "# Show the first few rows of the SMA columns to check if the values are calculated\n",
        "print(\"\\nFirst few rows of the SMA and other indicators:\")\n",
        "print(df[['SMA 5', 'SMA 20', 'SMA 50', 'Price Change', 'RSI']].head())\n",
        "\n"
      ],
      "metadata": {
        "colab": {
          "base_uri": "https://localhost:8080/"
        },
        "id": "YHcI05RV6NCm",
        "outputId": "157462ac-a7af-4b55-ca57-da262d02e6f5"
      },
      "execution_count": 115,
      "outputs": [
        {
          "output_type": "stream",
          "name": "stdout",
          "text": [
            "\n",
            "First few rows of the SMA and other indicators:\n",
            "               SMA 5  SMA 20  SMA 50  Price Change  RSI\n",
            "Date                                                   \n",
            "2024-04-10       NaN     NaN     NaN           NaN  NaN\n",
            "2024-04-11       NaN     NaN     NaN      0.041097  NaN\n",
            "2024-04-12       NaN     NaN     NaN     -0.026817  NaN\n",
            "2024-04-15       NaN     NaN     NaN     -0.024777  NaN\n",
            "2024-04-16  87.82254     NaN     NaN      0.016442  NaN\n"
          ]
        }
      ]
    },
    {
      "cell_type": "code",
      "source": [
        "import plotly.graph_objects as go\n",
        "from plotly.subplots import make_subplots\n",
        "\n",
        "# Create the figure\n",
        "fig = go.Figure()\n",
        "\n",
        "# Add Candlestick chart\n",
        "fig.add_trace(go.Candlestick(\n",
        "    x=df.index,\n",
        "    open=df['Open'],\n",
        "    high=df['High'],\n",
        "    low=df['Low'],\n",
        "    close=df['Close'],\n",
        "    name='Candlestick'\n",
        "))\n",
        "\n",
        "# Add SMAs\n",
        "fig.add_trace(go.Scatter(\n",
        "    x=df.index,\n",
        "    y=df['SMA 5'],\n",
        "    line=dict(color='blue', width=1),\n",
        "    name='SMA 5'\n",
        "))\n",
        "\n",
        "fig.add_trace(go.Scatter(\n",
        "    x=df.index,\n",
        "    y=df['SMA 20'],\n",
        "    line=dict(color='orange', width=1),\n",
        "    name='SMA 20'\n",
        "))\n",
        "\n",
        "fig.add_trace(go.Scatter(\n",
        "    x=df.index,\n",
        "    y=df['SMA 50'],\n",
        "    line=dict(color='purple', width=1),\n",
        "    name='SMA 50'\n",
        "))\n",
        "\n",
        "# Update layout with title and axis labels\n",
        "fig.update_layout(\n",
        "    title='Apple Stock Price and SMA Analysis',\n",
        "    yaxis_title='Stock Price (USD)',\n",
        "    xaxis_title='Date',\n",
        "    xaxis_rangeslider_visible=False,  # Hide the range slider\n",
        "    height=800\n",
        ")\n",
        "\n",
        "# Show the plot\n",
        "fig.show()\n"
      ],
      "metadata": {
        "colab": {
          "base_uri": "https://localhost:8080/",
          "height": 817
        },
        "id": "oVl_gJqYJYTk",
        "outputId": "42257fec-c499-44c5-b4b0-e9c62ee21877"
      },
      "execution_count": 116,
      "outputs": [
        {
          "output_type": "display_data",
          "data": {
            "text/html": [
              "<html>\n",
              "<head><meta charset=\"utf-8\" /></head>\n",
              "<body>\n",
              "    <div>            <script src=\"https://cdnjs.cloudflare.com/ajax/libs/mathjax/2.7.5/MathJax.js?config=TeX-AMS-MML_SVG\"></script><script type=\"text/javascript\">if (window.MathJax && window.MathJax.Hub && window.MathJax.Hub.Config) {window.MathJax.Hub.Config({SVG: {font: \"STIX-Web\"}});}</script>                <script type=\"text/javascript\">window.PlotlyConfig = {MathJaxConfig: 'local'};</script>\n",
              "        <script charset=\"utf-8\" src=\"https://cdn.plot.ly/plotly-2.35.2.min.js\"></script>                <div id=\"47581914-cd90-456d-9ac5-11a357f86e93\" class=\"plotly-graph-div\" style=\"height:800px; width:100%;\"></div>            <script type=\"text/javascript\">                                    window.PLOTLYENV=window.PLOTLYENV || {};                                    if (document.getElementById(\"47581914-cd90-456d-9ac5-11a357f86e93\")) {                    Plotly.newPlot(                        \"47581914-cd90-456d-9ac5-11a357f86e93\",                        [{\"close\":[87.01040649414062,90.58623504638672,88.15702819824219,85.97274780273438,87.38628387451172,84.00739288330078,84.6431884765625,76.17496490478516,79.49187469482422,82.39591979980469,79.65083312988281,82.60486602783203,87.7061767578125,87.7281723022461,86.37361145019531,83.01371765136719,85.78881072998047,88.75983428955078,92.10972595214844,90.52424621582031,90.3823013305664,88.71784973144531,89.84848022460938,90.36930847167969,91.32599639892578,94.59890747070312,94.3280029296875,92.44861602783203,94.74886322021484,95.35466766357422,94.91880798339844,103.76490783691406,106.43402862548828,113.86358642578125,114.78727722167969,110.46369934082031,109.59698486328125,114.96222686767578,116.39875030517578,122.3997802734375,120.95825958251953,120.84829711914062,121.74999237060547,120.88021087646484,125.16915130615234,129.5780792236328,131.84751892089844,130.94773864746094,135.54660034179688,130.74778747558594,126.53881072998047,118.08090209960938,126.05892944335938,126.36885833740234,123.95944213867188,123.50955963134766,124.2693862915039,122.6397705078125,128.24839782714844,125.79899597167969,128.16839599609375,131.34764099121094,134.87677001953125,127.36861419677734,129.2081756591797,128.40835571289062,126.32887268066406,117.96092987060547,121.06016540527344,117.90093994140625,123.50955963134766,122.5597915649414,114.22184753417969,112.25232696533203,113.03214263916016,111.5625,103.7044448852539,116.99115753173828,109.18309783935547,107.24356842041016,100.42524719238281,104.22431182861328,98.88563537597656,104.94413757324219,104.72418975830078,108.9931411743164,116.11138153076172,118.05091094970703,122.8297348022461,124.54930114746094,129.96795654296875,127.2186508178711,128.4683380126953,123.70951080322266,129.33811950683594,126.42884063720703,128.26840209960938,125.57905578613281,117.56101989746094,119.34059143066406,107.973388671875,106.18383026123047,107.18358612060547,102.80465698242188,106.44377136230469,108.0733642578125,116.88119506835938,119.12083435058594,119.0808334350586,116.7612075805664,115.57140350341797,113.35176086425781,117.85104370117188,115.98133850097656,116.24130249023438,120.85055541992188,123.4901351928711,124.02005004882812,121.38047790527344,121.42046356201172,116.9811782836914,118.83087921142578,122.83023834228516,124.89990234375,127.69945526123047,132.86862182617188,132.62864685058594,134.78829956054688,134.7783203125,138.0478057861328,131.57884216308594,135.6981658935547,136.90797424316406,137.97779846191406,143.6868896484375,143.56690979003906,139.5375518798828,140.38742065429688,141.51722717285156,140.49740600585938,141.22727966308594,139.3175811767578,132.7386474609375,135.3782196044922,136.0281219482422,139.8874969482422,145.58657836914062,148.85606384277344,147.6062469482422,145.2366180419922,148.26612854003906,146.24647521972656,146.7363739013672,141.9571533203125,140.12744140625,146.98634338378906,145.8665313720703,146.6464080810547,141.92715454101562,135.9981231689453,136.89797973632812,135.31822204589844,138.22776794433594,138.60769653320312,140.23744201660156,145.1166534423828,145.04666137695312,142.42689514160156,138.79722595214844,135.05758666992188,139.29718017578125,137.32736206054688,134.23765563964844,131.98785400390625,130.3780059814453,128.8981475830078,130.66796875,134.68760681152344,139.6571502685547,140.2071075439453,139.91712951660156,136.9973907470703,137.47735595703125,134.27764892578125,138.29727172851562,144.4567108154297,149.41624450683594,140.12710571289062,140.0971221923828,135.8975067138672,133.21774291992188,131.7478790283203,136.22747802734375,133.55772399902344,137.6973419189453,140.81704711914062,147.05648803710938,147.2064666748047,142.60687255859375,118.40910339355469,128.9781494140625,123.6886215209961,124.63853454589844,120.0589599609375,116.64927673339844,118.63909149169922,124.81851959228516,128.66815185546875,129.8280487060547,133.55772399902344,132.7877960205078,131.12794494628906,135.27755737304688,138.8372344970703,139.38717651367188,139.21719360351562,140.0971221923828,134.41763305664062,130.2680206298828,126.61835479736328,131.26792907714844,120.13895416259766,124.90850830078125,114.04950714111328,115.97933197021484,117.28921508789062,110.55982971191406,112.67964172363281,106.97016143798828,108.75,115.73999786376953,115.58000183105469,121.66999816894531,119.52999877929688,115.43000030517578,117.5199966430664,118.52999877929688,117.69999694824219,121.41000366210938,120.69000244140625,113.76000213623047,111.43000030517578,109.66999816894531,108.37999725341797,110.1500015258789,110.41999816894531,101.80000305175781,94.30999755859375,97.63999938964844,96.30000305175781,114.33000183105469,106.4198989868164],\"high\":[87.3712879556285,90.70919574606373,90.1453808587556,90.58323225547265,88.08904823109181,88.7458333599475,86.16169439997329,84.29629668319684,80.04669267273574,82.7418068067518,84.0543851474842,83.29563335625151,88.30198162324554,87.96308807915567,88.7898171170471,85.9717451202874,86.20867093085921,89.25166943381491,92.18970149787158,91.75084041902228,91.16404211729393,91.04208295679378,91.37098265790202,90.96811074029578,91.62089767401247,94.83083350687552,95.78752238437566,94.70887485375151,95.16872341830162,95.36866300361463,95.98845620709115,106.2850758370863,106.44002335978084,114.90124747385036,115.45405793078952,115.78095222554882,112.67997129263833,114.96222686767578,116.56169877793198,122.40877237466783,125.54574922421772,121.65203391481319,123.05955958930451,122.83972700807324,126.84873770805827,129.7680348697194,132.80727390157034,133.69706139159663,136.29641557179684,140.72532511567726,130.5978154647857,124.42933613805307,126.46883208603107,128.08842814640124,126.37885155800387,127.67853027804634,124.80924657003757,123.37959365292392,128.24839782714844,128.81825608276083,130.73776982046533,133.78704236722226,135.0667256558596,136.1164508461357,131.88750829381019,131.35762580228223,129.0082051584145,121.8199795319496,122.36984786902624,121.57003374775046,124.03942781453529,124.65928025097237,119.92043994002134,116.60125336651197,116.17136841805404,116.25134680115113,111.96240417731258,118.31083191790377,120.13040514788088,108.69321575888374,103.38452459369911,107.68345833707174,108.77319818362058,105.47400576569116,106.57373239559361,111.04263923804827,116.20136332032301,118.57077948335262,123.2096384456698,124.9691958147952,129.96795654296875,129.8480077753235,129.31813467743694,130.717785815134,129.56807382051312,131.22765338990934,129.1681743229575,128.29838691719942,124.39933835599817,121.72000228172388,116.18136480283337,113.24208832420429,109.6229874268856,108.12334543943037,106.52375348417674,109.37304700834024,117.16112485124165,120.77057045474369,119.94069565795841,118.16098383065176,118.7808938826076,117.68105834506785,119.64075670028409,118.6009197546388,116.97118080282907,121.78040609310197,124.91990547833531,127.64946344549999,124.01005220096552,121.48045146740193,122.42030559533124,119.360792730428,124.33999759824167,125.01988578554294,130.61898369823507,133.45852325335272,134.49835629027027,134.97827142059657,135.75815840657205,139.57755854294567,138.547722466739,136.5980149944232,140.8673441853548,138.87764756674068,143.6868896484375,144.39677817254247,142.4070854107316,141.3272719093067,144.1068221770471,143.11697977842437,142.23711171034327,140.30742741103543,137.5878737112806,137.2879161101812,138.9376575905799,140.3474144064953,146.46644169789403,148.9060435973239,149.74590195013883,148.82605190369284,149.62591028148023,149.30598054586102,148.97601887199116,145.2166386002855,141.52722527651324,147.10633445236968,147.53626090336707,152.8654088901037,147.13632286743956,142.02715192160386,139.277601884859,137.19792446250455,139.32759715528792,140.42739572538855,140.51739577472358,145.76654278655016,146.52652104015894,145.68658966441174,139.93712045292858,141.80696595909077,140.15710166074888,138.42726697152892,139.58716980719961,134.38762706465963,131.57789255271604,136.68742440979707,134.01766661792476,135.26755529215387,139.77713434768583,141.88694573903672,140.8370583714796,139.00721560881072,140.2570989672278,138.05731549303724,138.8672266066605,144.88666393436952,152.14600432101588,153.1159160516902,143.9367655713296,139.90713250101766,133.47772877314173,136.3674645891877,136.43745017340345,138.73724031386243,138.48726255165812,141.8169551308445,147.77640781491758,147.2164602628041,148.95629439391405,128.3881809500624,128.9881430022562,126.87833061040895,124.9885008224628,127.83824341487099,118.55909714130068,121.1888524384042,124.98850212428793,128.7581551695,130.35799871586244,134.98758517024453,134.4676342706669,132.22784993678553,136.487452862588,139.23719160158925,143.4268135927519,141.34700263351252,140.6470746897965,141.4470007486669,138.57725415414035,130.18802626376245,133.71770077604796,134.99758082030266,125.07849083366686,123.68861991301428,119.29902637351395,118.26912068620358,115.3393888375433,113.46957000648335,111.83970852661247,112.22967568900775,116.76000213623047,117.76000213623047,121.87999725341797,122.88999938964844,119.0199966430664,120.44999694824219,120.19999694824219,117.98999786376953,122.22000122070312,121.29000091552734,118.83999633789062,114.44999694824219,112.87000274658203,110.95999908447266,110.19999694824219,111.9800033569336,105.62999725341797,100.12999725341797,101.75,105.8499984741211,115.0999984741211,110.86000061035156],\"low\":[83.68149867040677,86.89745219051976,87.50124546153059,85.9007728583494,86.03572977127556,83.92241409948026,82.37493650827429,75.58116589392048,76.37490279505329,80.23763246823718,79.15699208262093,78.19730980842563,83.35960564687717,85.23798574736955,86.27164758783333,81.22830132116862,83.17266601309362,87.01140828668458,89.02574047227303,88.98175395384375,89.39062281924463,88.20202038816478,89.19769305265027,88.49991996993283,88.90478722070216,91.5689050462718,94.07208269713682,91.77584059273352,93.40930707577944,93.14939104451075,93.21837032400495,101.48664948420172,102.96616635990915,109.84690852832622,110.86457027293942,109.62697631949285,106.904868817121,111.96620962094242,114.00753771578134,117.42941347887506,118.2811377621336,117.98324108710487,116.9715638416941,118.7107397776175,122.53980200765415,127.12868568021801,128.28839829543193,129.54808953427707,130.6578056523983,129.48810330722768,124.26937345205326,118.01091965046173,119.29060083723321,122.56979155312732,122.88970613137967,122.71975337861936,118.8007324055703,121.00017523772506,121.33010435521813,125.64903140778242,127.0086858992603,128.61830251041144,132.38737791270125,127.0187019512054,127.1886688828338,127.14866403247436,124.54931239200171,116.69124610366761,116.53128260658956,117.341080377663,119.8304661088677,122.06991443104106,113.41204956795865,106.27380502948411,111.55251154245995,111.27257816967544,102.51473565355279,110.85267132044424,106.78368749587625,101.3450281116693,90.66765743904186,100.52522659409519,98.6656883565928,97.49596860854,103.40451530940655,106.23382655143305,111.55250759337807,114.04189674110647,117.44106320591041,121.15013749579563,123.38957660426745,125.85898525590325,126.62879504399294,123.06966909662319,125.18914813175064,124.33935925298674,123.84948497148315,122.60978624415954,116.68123949231907,117.19111963899515,107.26356453201906,104.09434887245212,104.73419276980215,100.92511547059387,103.66445746112835,104.92413884500664,107.39352807236727,115.3614370539407,117.58107480834963,114.34159881620232,114.81153124290536,113.20178347448297,117.23114068021938,115.37143602446805,114.84152614526418,115.36143323881014,121.5904392877682,121.78041247124415,119.24082267160239,118.13099198549791,115.77137385100936,115.12147695024304,120.32063993396463,121.810403092212,124.92989659161151,129.39917881279587,131.35886221320516,130.97891523035668,133.63850429309608,136.27808612883217,128.71930149862905,131.55883256815804,136.8479863322171,137.25791307551907,137.97780144123402,141.7572032447214,137.43789878035992,138.4377373361036,140.77735596279692,140.02748037021578,138.87765156261756,136.78798938993828,132.08875807974474,134.5483665061615,135.54820341905642,137.30791015086248,141.93717159604822,146.14649291865044,146.236457046531,143.5469028263821,145.98649668767203,145.87652436377047,145.52657719098687,140.05746510375218,137.1279241566863,140.96732287230222,142.70703603144835,140.67736706254192,141.07730047570033,135.79815839357323,135.64818075181995,131.77879829463743,136.02812477876728,137.7978293194704,137.92781588392697,140.26742746830917,143.93676281520223,141.29699424160657,137.1173878488451,133.77769033829185,135.19756655561218,135.7875104425574,132.52780616182653,130.40799755691268,126.84833189511964,128.2682006428492,129.5380830968377,128.20820713472543,135.1075657604122,138.6372445869122,137.7173348045662,134.69761453351015,134.00767398793965,133.8176997545706,134.61761764692358,139.71714137538024,147.80640728049391,139.99711279126652,137.5473535279277,134.20765966847648,129.49808381781634,130.03804480886453,131.277920981104,133.47772952507327,135.44754884500142,137.07738566270945,143.65679142482674,143.706788444335,141.86695041120194,116.68926041493282,116.23931491482392,120.03896327722832,118.08913405132431,119.1790436181177,112.99961082645434,116.68926621972048,120.74889426826606,125.19847756454047,124.9884977355082,129.94805537047182,131.0079608594355,129.0681367435288,131.15794096754342,135.4875365315285,137.91731045487123,137.2073839146051,136.7774200315485,134.01767593596887,130.06804206967678,124.42856133510212,128.478192299153,119.99896764539281,116.38929530836823,112.26967207329028,110.09987541363249,114.49947076595478,110.209863429875,107.5501084934214,105.45029700249104,104.76036144852146,112.87999725341797,113.79000091552734,118.1500015258789,118.02999877929688,114.54000091552734,115.68000030517578,116.47000122070312,115.41999816894531,119.33999633789062,118.91999816894531,112.70999908447266,110.66000366210938,109.06999969482422,103.6500015258789,106.47000122070312,106.79000091552734,101.5999984741211,92.11000061035156,86.62000274658203,94.45999908447266,97.52999877929688,105.81999969482422],\"name\":\"Candlestick\",\"open\":[83.89843024698811,87.39128560717941,89.66953167082109,89.06873054875433,86.40460421758179,88.3109710984958,84.94209387359811,83.12268637450086,78.07833775408314,80.74246382535908,83.92242471814481,78.84209462361733,83.79046380504667,87.56622296271497,87.2113335471447,85.04905184528752,84.42125626969049,87.76016278941914,89.36062948973989,91.06806618454974,89.45360566200054,90.4992620554592,90.27534193987526,90.44827727503778,89.56956971282393,92.44161932872312,94.87882442022669,94.33800216120143,93.71920279909754,93.56825212335475,95.42764347286975,101.99448585081109,104.41468788795488,110.2077900069521,113.01286640628571,114.612337538274,112.4830297906596,113.58368201334555,115.67799408835361,118.33211671671947,124.00725324087743,119.73066046106749,120.33046067723372,121.73999195116299,123.02967915018486,129.35813218658845,129.92799370452428,132.9572533982128,131.10769173939232,139.76557010788932,127.08867825178737,123.20963548646723,121.17013488438512,126.09892059020918,124.06941564080125,124.54930428199576,123.43958890104815,121.10014907077634,121.63003350315482,127.34860945857926,127.4585719244731,130.3178959397844,133.99698191654937,135.71655549549055,128.2284060345482,130.52782847793975,128.40836211736584,121.32010271185337,121.81998031239168,120.32034177331325,120.3203432330864,122.74974719191928,119.1406333610656,113.01214179627254,116.16137637359374,113.66198865142056,111.49251876218644,112.87217777091092,117.50104810323892,103.73443867463745,92.0373150047539,103.8144091952266,107.78343659639361,101.97486813365401,105.6139698534446,106.29380933051287,112.41229629244809,118.5007970340635,118.73074633761901,121.90995234205361,124.24936523467589,128.36836140301475,127.288628455805,129.98796994394152,125.82898983127045,129.53808260280766,125.01920259136338,128.0884319398247,121.33009516824127,119.50054804230363,115.9814171340765,105.38403194779274,104.96413183407385,108.0133719412909,104.85415910703641,107.78343479415585,109.3630438515934,116.82120128077001,119.06084000976254,116.77120810734208,118.15099033708098,115.87135202544096,117.3311230698782,117.041165532472,116.5312567610485,116.5012492087513,122.00036937142775,126.77960826024157,123.9500642912149,118.29096227592748,121.75040758040218,116.42127087200362,120.90054847309592,124.91990339813242,124.96989107230341,130.23904002332463,134.08841860906853,131.8887724251562,133.98843884138304,136.44805696221857,137.84782283581688,133.9584403413635,139.31759037510415,138.64768884107772,138.1077854115753,142.88702644418225,142.00715584596583,140.79735837298583,140.90732467853542,142.9770029033179,140.26742736816374,139.51754595215704,137.57788081150406,134.67833522595924,137.18793904541485,137.4278859649573,142.9370107400554,146.3664587614797,148.7460628790407,148.65606583595482,146.7563770410738,149.04602786184785,147.6162371498861,144.8466877533126,139.47755210471132,141.2972716123141,147.38629113505743,149.32598496889756,145.90650981286518,141.9671640146257,137.6778530821544,134.98827330747284,136.75800311530705,138.8076612979231,138.23776359782383,141.97715912549498,145.0966598316491,144.58670004061705,138.9572148926683,138.99721154250668,137.3473626393387,137.0673914713081,138.92722683278515,134.16764608739564,129.07812250532473,133.84768927135005,131.7478712095932,129.7980572196654,136.2674627166313,139.98712655305678,139.68715493157526,138.53725762424156,134.81759702407376,138.0173106258272,135.98748671158143,139.99711439640743,148.57632545203526,153.0159191493047,142.5668963792699,137.43735839735214,129.97805065881337,136.0374931021696,133.63770458598145,138.6272498193542,136.67743145335606,139.14720257048143,144.64670591256592,145.03666800279981,148.35634349735062,124.78852130861458,121.79880142784785,126.48836708502724,123.08867408422283,123.76861793270326,114.7394486968032,116.94924444838958,121.74880228526035,127.40827329026631,129.20811063964976,130.0780330404282,132.56781502240796,130.00805277951918,131.54790450828392,136.46744211776974,141.25701494818574,139.49716663707372,140.01712771481476,140.02711787829398,136.5474420161462,129.96804527013506,129.97805439122038,134.9875872324259,118.00914142194866,123.49864257535764,110.63982667322061,117.56918811598004,113.51955654224739,111.2397716760376,109.88989097369002,106.98015850635034,114.12000274658203,117.02999877929688,118.61000061035156,122.73999786376953,118.0,117.2699966430664,116.55000305175781,116.94000244140625,119.87999725341797,120.55000305175781,118.7300033569336,111.3499984741211,111.48999786376953,105.12999725341797,108.5199966430664,107.29000091552734,103.51000213623047,98.91000366210938,87.45999908447266,103.80999755859375,98.88999938964844,109.31999969482422],\"x\":[\"2024-04-10T00:00:00\",\"2024-04-11T00:00:00\",\"2024-04-12T00:00:00\",\"2024-04-15T00:00:00\",\"2024-04-16T00:00:00\",\"2024-04-17T00:00:00\",\"2024-04-18T00:00:00\",\"2024-04-19T00:00:00\",\"2024-04-22T00:00:00\",\"2024-04-23T00:00:00\",\"2024-04-24T00:00:00\",\"2024-04-25T00:00:00\",\"2024-04-26T00:00:00\",\"2024-04-29T00:00:00\",\"2024-04-30T00:00:00\",\"2024-05-01T00:00:00\",\"2024-05-02T00:00:00\",\"2024-05-03T00:00:00\",\"2024-05-06T00:00:00\",\"2024-05-07T00:00:00\",\"2024-05-08T00:00:00\",\"2024-05-09T00:00:00\",\"2024-05-10T00:00:00\",\"2024-05-13T00:00:00\",\"2024-05-14T00:00:00\",\"2024-05-15T00:00:00\",\"2024-05-16T00:00:00\",\"2024-05-17T00:00:00\",\"2024-05-20T00:00:00\",\"2024-05-21T00:00:00\",\"2024-05-22T00:00:00\",\"2024-05-23T00:00:00\",\"2024-05-24T00:00:00\",\"2024-05-28T00:00:00\",\"2024-05-29T00:00:00\",\"2024-05-30T00:00:00\",\"2024-05-31T00:00:00\",\"2024-06-03T00:00:00\",\"2024-06-04T00:00:00\",\"2024-06-05T00:00:00\",\"2024-06-06T00:00:00\",\"2024-06-07T00:00:00\",\"2024-06-10T00:00:00\",\"2024-06-11T00:00:00\",\"2024-06-12T00:00:00\",\"2024-06-13T00:00:00\",\"2024-06-14T00:00:00\",\"2024-06-17T00:00:00\",\"2024-06-18T00:00:00\",\"2024-06-20T00:00:00\",\"2024-06-21T00:00:00\",\"2024-06-24T00:00:00\",\"2024-06-25T00:00:00\",\"2024-06-26T00:00:00\",\"2024-06-27T00:00:00\",\"2024-06-28T00:00:00\",\"2024-07-01T00:00:00\",\"2024-07-02T00:00:00\",\"2024-07-03T00:00:00\",\"2024-07-05T00:00:00\",\"2024-07-08T00:00:00\",\"2024-07-09T00:00:00\",\"2024-07-10T00:00:00\",\"2024-07-11T00:00:00\",\"2024-07-12T00:00:00\",\"2024-07-15T00:00:00\",\"2024-07-16T00:00:00\",\"2024-07-17T00:00:00\",\"2024-07-18T00:00:00\",\"2024-07-19T00:00:00\",\"2024-07-22T00:00:00\",\"2024-07-23T00:00:00\",\"2024-07-24T00:00:00\",\"2024-07-25T00:00:00\",\"2024-07-26T00:00:00\",\"2024-07-29T00:00:00\",\"2024-07-30T00:00:00\",\"2024-07-31T00:00:00\",\"2024-08-01T00:00:00\",\"2024-08-02T00:00:00\",\"2024-08-05T00:00:00\",\"2024-08-06T00:00:00\",\"2024-08-07T00:00:00\",\"2024-08-08T00:00:00\",\"2024-08-09T00:00:00\",\"2024-08-12T00:00:00\",\"2024-08-13T00:00:00\",\"2024-08-14T00:00:00\",\"2024-08-15T00:00:00\",\"2024-08-16T00:00:00\",\"2024-08-19T00:00:00\",\"2024-08-20T00:00:00\",\"2024-08-21T00:00:00\",\"2024-08-22T00:00:00\",\"2024-08-23T00:00:00\",\"2024-08-26T00:00:00\",\"2024-08-27T00:00:00\",\"2024-08-28T00:00:00\",\"2024-08-29T00:00:00\",\"2024-08-30T00:00:00\",\"2024-09-03T00:00:00\",\"2024-09-04T00:00:00\",\"2024-09-05T00:00:00\",\"2024-09-06T00:00:00\",\"2024-09-09T00:00:00\",\"2024-09-10T00:00:00\",\"2024-09-11T00:00:00\",\"2024-09-12T00:00:00\",\"2024-09-13T00:00:00\",\"2024-09-16T00:00:00\",\"2024-09-17T00:00:00\",\"2024-09-18T00:00:00\",\"2024-09-19T00:00:00\",\"2024-09-20T00:00:00\",\"2024-09-23T00:00:00\",\"2024-09-24T00:00:00\",\"2024-09-25T00:00:00\",\"2024-09-26T00:00:00\",\"2024-09-27T00:00:00\",\"2024-09-30T00:00:00\",\"2024-10-01T00:00:00\",\"2024-10-02T00:00:00\",\"2024-10-03T00:00:00\",\"2024-10-04T00:00:00\",\"2024-10-07T00:00:00\",\"2024-10-08T00:00:00\",\"2024-10-09T00:00:00\",\"2024-10-10T00:00:00\",\"2024-10-11T00:00:00\",\"2024-10-14T00:00:00\",\"2024-10-15T00:00:00\",\"2024-10-16T00:00:00\",\"2024-10-17T00:00:00\",\"2024-10-18T00:00:00\",\"2024-10-21T00:00:00\",\"2024-10-22T00:00:00\",\"2024-10-23T00:00:00\",\"2024-10-24T00:00:00\",\"2024-10-25T00:00:00\",\"2024-10-28T00:00:00\",\"2024-10-29T00:00:00\",\"2024-10-30T00:00:00\",\"2024-10-31T00:00:00\",\"2024-11-01T00:00:00\",\"2024-11-04T00:00:00\",\"2024-11-05T00:00:00\",\"2024-11-06T00:00:00\",\"2024-11-07T00:00:00\",\"2024-11-08T00:00:00\",\"2024-11-11T00:00:00\",\"2024-11-12T00:00:00\",\"2024-11-13T00:00:00\",\"2024-11-14T00:00:00\",\"2024-11-15T00:00:00\",\"2024-11-18T00:00:00\",\"2024-11-19T00:00:00\",\"2024-11-20T00:00:00\",\"2024-11-21T00:00:00\",\"2024-11-22T00:00:00\",\"2024-11-25T00:00:00\",\"2024-11-26T00:00:00\",\"2024-11-27T00:00:00\",\"2024-11-29T00:00:00\",\"2024-12-02T00:00:00\",\"2024-12-03T00:00:00\",\"2024-12-04T00:00:00\",\"2024-12-05T00:00:00\",\"2024-12-06T00:00:00\",\"2024-12-09T00:00:00\",\"2024-12-10T00:00:00\",\"2024-12-11T00:00:00\",\"2024-12-12T00:00:00\",\"2024-12-13T00:00:00\",\"2024-12-16T00:00:00\",\"2024-12-17T00:00:00\",\"2024-12-18T00:00:00\",\"2024-12-19T00:00:00\",\"2024-12-20T00:00:00\",\"2024-12-23T00:00:00\",\"2024-12-24T00:00:00\",\"2024-12-26T00:00:00\",\"2024-12-27T00:00:00\",\"2024-12-30T00:00:00\",\"2024-12-31T00:00:00\",\"2025-01-02T00:00:00\",\"2025-01-03T00:00:00\",\"2025-01-06T00:00:00\",\"2025-01-07T00:00:00\",\"2025-01-08T00:00:00\",\"2025-01-10T00:00:00\",\"2025-01-13T00:00:00\",\"2025-01-14T00:00:00\",\"2025-01-15T00:00:00\",\"2025-01-16T00:00:00\",\"2025-01-17T00:00:00\",\"2025-01-21T00:00:00\",\"2025-01-22T00:00:00\",\"2025-01-23T00:00:00\",\"2025-01-24T00:00:00\",\"2025-01-27T00:00:00\",\"2025-01-28T00:00:00\",\"2025-01-29T00:00:00\",\"2025-01-30T00:00:00\",\"2025-01-31T00:00:00\",\"2025-02-03T00:00:00\",\"2025-02-04T00:00:00\",\"2025-02-05T00:00:00\",\"2025-02-06T00:00:00\",\"2025-02-07T00:00:00\",\"2025-02-10T00:00:00\",\"2025-02-11T00:00:00\",\"2025-02-12T00:00:00\",\"2025-02-13T00:00:00\",\"2025-02-14T00:00:00\",\"2025-02-18T00:00:00\",\"2025-02-19T00:00:00\",\"2025-02-20T00:00:00\",\"2025-02-21T00:00:00\",\"2025-02-24T00:00:00\",\"2025-02-25T00:00:00\",\"2025-02-26T00:00:00\",\"2025-02-27T00:00:00\",\"2025-02-28T00:00:00\",\"2025-03-03T00:00:00\",\"2025-03-04T00:00:00\",\"2025-03-05T00:00:00\",\"2025-03-06T00:00:00\",\"2025-03-07T00:00:00\",\"2025-03-10T00:00:00\",\"2025-03-11T00:00:00\",\"2025-03-12T00:00:00\",\"2025-03-13T00:00:00\",\"2025-03-14T00:00:00\",\"2025-03-17T00:00:00\",\"2025-03-18T00:00:00\",\"2025-03-19T00:00:00\",\"2025-03-20T00:00:00\",\"2025-03-21T00:00:00\",\"2025-03-24T00:00:00\",\"2025-03-25T00:00:00\",\"2025-03-26T00:00:00\",\"2025-03-27T00:00:00\",\"2025-03-28T00:00:00\",\"2025-03-31T00:00:00\",\"2025-04-01T00:00:00\",\"2025-04-02T00:00:00\",\"2025-04-03T00:00:00\",\"2025-04-04T00:00:00\",\"2025-04-07T00:00:00\",\"2025-04-08T00:00:00\",\"2025-04-09T00:00:00\",\"2025-04-10T00:00:00\"],\"type\":\"candlestick\"},{\"line\":{\"color\":\"blue\",\"width\":1},\"name\":\"SMA 5\",\"x\":[\"2024-04-10T00:00:00\",\"2024-04-11T00:00:00\",\"2024-04-12T00:00:00\",\"2024-04-15T00:00:00\",\"2024-04-16T00:00:00\",\"2024-04-17T00:00:00\",\"2024-04-18T00:00:00\",\"2024-04-19T00:00:00\",\"2024-04-22T00:00:00\",\"2024-04-23T00:00:00\",\"2024-04-24T00:00:00\",\"2024-04-25T00:00:00\",\"2024-04-26T00:00:00\",\"2024-04-29T00:00:00\",\"2024-04-30T00:00:00\",\"2024-05-01T00:00:00\",\"2024-05-02T00:00:00\",\"2024-05-03T00:00:00\",\"2024-05-06T00:00:00\",\"2024-05-07T00:00:00\",\"2024-05-08T00:00:00\",\"2024-05-09T00:00:00\",\"2024-05-10T00:00:00\",\"2024-05-13T00:00:00\",\"2024-05-14T00:00:00\",\"2024-05-15T00:00:00\",\"2024-05-16T00:00:00\",\"2024-05-17T00:00:00\",\"2024-05-20T00:00:00\",\"2024-05-21T00:00:00\",\"2024-05-22T00:00:00\",\"2024-05-23T00:00:00\",\"2024-05-24T00:00:00\",\"2024-05-28T00:00:00\",\"2024-05-29T00:00:00\",\"2024-05-30T00:00:00\",\"2024-05-31T00:00:00\",\"2024-06-03T00:00:00\",\"2024-06-04T00:00:00\",\"2024-06-05T00:00:00\",\"2024-06-06T00:00:00\",\"2024-06-07T00:00:00\",\"2024-06-10T00:00:00\",\"2024-06-11T00:00:00\",\"2024-06-12T00:00:00\",\"2024-06-13T00:00:00\",\"2024-06-14T00:00:00\",\"2024-06-17T00:00:00\",\"2024-06-18T00:00:00\",\"2024-06-20T00:00:00\",\"2024-06-21T00:00:00\",\"2024-06-24T00:00:00\",\"2024-06-25T00:00:00\",\"2024-06-26T00:00:00\",\"2024-06-27T00:00:00\",\"2024-06-28T00:00:00\",\"2024-07-01T00:00:00\",\"2024-07-02T00:00:00\",\"2024-07-03T00:00:00\",\"2024-07-05T00:00:00\",\"2024-07-08T00:00:00\",\"2024-07-09T00:00:00\",\"2024-07-10T00:00:00\",\"2024-07-11T00:00:00\",\"2024-07-12T00:00:00\",\"2024-07-15T00:00:00\",\"2024-07-16T00:00:00\",\"2024-07-17T00:00:00\",\"2024-07-18T00:00:00\",\"2024-07-19T00:00:00\",\"2024-07-22T00:00:00\",\"2024-07-23T00:00:00\",\"2024-07-24T00:00:00\",\"2024-07-25T00:00:00\",\"2024-07-26T00:00:00\",\"2024-07-29T00:00:00\",\"2024-07-30T00:00:00\",\"2024-07-31T00:00:00\",\"2024-08-01T00:00:00\",\"2024-08-02T00:00:00\",\"2024-08-05T00:00:00\",\"2024-08-06T00:00:00\",\"2024-08-07T00:00:00\",\"2024-08-08T00:00:00\",\"2024-08-09T00:00:00\",\"2024-08-12T00:00:00\",\"2024-08-13T00:00:00\",\"2024-08-14T00:00:00\",\"2024-08-15T00:00:00\",\"2024-08-16T00:00:00\",\"2024-08-19T00:00:00\",\"2024-08-20T00:00:00\",\"2024-08-21T00:00:00\",\"2024-08-22T00:00:00\",\"2024-08-23T00:00:00\",\"2024-08-26T00:00:00\",\"2024-08-27T00:00:00\",\"2024-08-28T00:00:00\",\"2024-08-29T00:00:00\",\"2024-08-30T00:00:00\",\"2024-09-03T00:00:00\",\"2024-09-04T00:00:00\",\"2024-09-05T00:00:00\",\"2024-09-06T00:00:00\",\"2024-09-09T00:00:00\",\"2024-09-10T00:00:00\",\"2024-09-11T00:00:00\",\"2024-09-12T00:00:00\",\"2024-09-13T00:00:00\",\"2024-09-16T00:00:00\",\"2024-09-17T00:00:00\",\"2024-09-18T00:00:00\",\"2024-09-19T00:00:00\",\"2024-09-20T00:00:00\",\"2024-09-23T00:00:00\",\"2024-09-24T00:00:00\",\"2024-09-25T00:00:00\",\"2024-09-26T00:00:00\",\"2024-09-27T00:00:00\",\"2024-09-30T00:00:00\",\"2024-10-01T00:00:00\",\"2024-10-02T00:00:00\",\"2024-10-03T00:00:00\",\"2024-10-04T00:00:00\",\"2024-10-07T00:00:00\",\"2024-10-08T00:00:00\",\"2024-10-09T00:00:00\",\"2024-10-10T00:00:00\",\"2024-10-11T00:00:00\",\"2024-10-14T00:00:00\",\"2024-10-15T00:00:00\",\"2024-10-16T00:00:00\",\"2024-10-17T00:00:00\",\"2024-10-18T00:00:00\",\"2024-10-21T00:00:00\",\"2024-10-22T00:00:00\",\"2024-10-23T00:00:00\",\"2024-10-24T00:00:00\",\"2024-10-25T00:00:00\",\"2024-10-28T00:00:00\",\"2024-10-29T00:00:00\",\"2024-10-30T00:00:00\",\"2024-10-31T00:00:00\",\"2024-11-01T00:00:00\",\"2024-11-04T00:00:00\",\"2024-11-05T00:00:00\",\"2024-11-06T00:00:00\",\"2024-11-07T00:00:00\",\"2024-11-08T00:00:00\",\"2024-11-11T00:00:00\",\"2024-11-12T00:00:00\",\"2024-11-13T00:00:00\",\"2024-11-14T00:00:00\",\"2024-11-15T00:00:00\",\"2024-11-18T00:00:00\",\"2024-11-19T00:00:00\",\"2024-11-20T00:00:00\",\"2024-11-21T00:00:00\",\"2024-11-22T00:00:00\",\"2024-11-25T00:00:00\",\"2024-11-26T00:00:00\",\"2024-11-27T00:00:00\",\"2024-11-29T00:00:00\",\"2024-12-02T00:00:00\",\"2024-12-03T00:00:00\",\"2024-12-04T00:00:00\",\"2024-12-05T00:00:00\",\"2024-12-06T00:00:00\",\"2024-12-09T00:00:00\",\"2024-12-10T00:00:00\",\"2024-12-11T00:00:00\",\"2024-12-12T00:00:00\",\"2024-12-13T00:00:00\",\"2024-12-16T00:00:00\",\"2024-12-17T00:00:00\",\"2024-12-18T00:00:00\",\"2024-12-19T00:00:00\",\"2024-12-20T00:00:00\",\"2024-12-23T00:00:00\",\"2024-12-24T00:00:00\",\"2024-12-26T00:00:00\",\"2024-12-27T00:00:00\",\"2024-12-30T00:00:00\",\"2024-12-31T00:00:00\",\"2025-01-02T00:00:00\",\"2025-01-03T00:00:00\",\"2025-01-06T00:00:00\",\"2025-01-07T00:00:00\",\"2025-01-08T00:00:00\",\"2025-01-10T00:00:00\",\"2025-01-13T00:00:00\",\"2025-01-14T00:00:00\",\"2025-01-15T00:00:00\",\"2025-01-16T00:00:00\",\"2025-01-17T00:00:00\",\"2025-01-21T00:00:00\",\"2025-01-22T00:00:00\",\"2025-01-23T00:00:00\",\"2025-01-24T00:00:00\",\"2025-01-27T00:00:00\",\"2025-01-28T00:00:00\",\"2025-01-29T00:00:00\",\"2025-01-30T00:00:00\",\"2025-01-31T00:00:00\",\"2025-02-03T00:00:00\",\"2025-02-04T00:00:00\",\"2025-02-05T00:00:00\",\"2025-02-06T00:00:00\",\"2025-02-07T00:00:00\",\"2025-02-10T00:00:00\",\"2025-02-11T00:00:00\",\"2025-02-12T00:00:00\",\"2025-02-13T00:00:00\",\"2025-02-14T00:00:00\",\"2025-02-18T00:00:00\",\"2025-02-19T00:00:00\",\"2025-02-20T00:00:00\",\"2025-02-21T00:00:00\",\"2025-02-24T00:00:00\",\"2025-02-25T00:00:00\",\"2025-02-26T00:00:00\",\"2025-02-27T00:00:00\",\"2025-02-28T00:00:00\",\"2025-03-03T00:00:00\",\"2025-03-04T00:00:00\",\"2025-03-05T00:00:00\",\"2025-03-06T00:00:00\",\"2025-03-07T00:00:00\",\"2025-03-10T00:00:00\",\"2025-03-11T00:00:00\",\"2025-03-12T00:00:00\",\"2025-03-13T00:00:00\",\"2025-03-14T00:00:00\",\"2025-03-17T00:00:00\",\"2025-03-18T00:00:00\",\"2025-03-19T00:00:00\",\"2025-03-20T00:00:00\",\"2025-03-21T00:00:00\",\"2025-03-24T00:00:00\",\"2025-03-25T00:00:00\",\"2025-03-26T00:00:00\",\"2025-03-27T00:00:00\",\"2025-03-28T00:00:00\",\"2025-03-31T00:00:00\",\"2025-04-01T00:00:00\",\"2025-04-02T00:00:00\",\"2025-04-03T00:00:00\",\"2025-04-04T00:00:00\",\"2025-04-07T00:00:00\",\"2025-04-08T00:00:00\",\"2025-04-09T00:00:00\",\"2025-04-10T00:00:00\"],\"y\":[null,null,null,null,87.82254028320312,87.22193756103516,86.03332824707032,83.63691558837891,82.34074096679687,81.34266815185546,80.47135620117187,80.06369171142578,82.36993408203125,84.01719360351562,84.81273193359375,85.48530883789063,86.12209777832031,86.33282928466797,87.20914001464844,88.03926696777344,89.51298370361329,90.09879150390626,90.31652069091797,89.96843719482422,90.12878723144532,90.97210845947265,92.0941390991211,92.61416625976562,93.49007720947266,94.29581146240234,94.3597915649414,96.24717254638672,99.04425506591797,102.86719970703125,106.75372161865235,109.86269989013672,111.02911529541015,112.73475494384766,113.24178771972656,114.76428833007813,116.86320037841797,119.11346282958985,120.47101593017578,121.3673080444336,121.92118225097656,123.64514617919922,125.84499053955078,127.68453979492188,130.6178176879883,131.733544921875,131.12569122314454,128.37236785888672,127.39460601806641,125.5590576171875,124.20138854980469,123.59553833007813,124.83323516845704,124.14940338134765,124.52531127929687,124.89322204589844,125.82498931884766,127.24064025878906,129.68804016113282,129.5120834350586,130.19391937255858,130.24191131591797,129.2381576538086,125.85498962402343,124.59329986572266,122.33185272216797,121.35209350585937,120.59827728271485,119.85046081542968,118.08889312744141,117.1151336669922,114.72572174072266,110.95465240478515,111.50851440429688,110.89466857910156,109.73695373535156,107.50950317382812,107.6134765625,103.99237213134765,103.144580078125,102.64070434570313,104.35428314208984,106.73169708251953,110.56475219726562,114.14187164306641,118.10689392089844,122.3018569946289,124.52331085205078,126.60679626464844,126.78275146484376,127.74051513671876,127.0326919555664,127.24264221191406,126.66478576660157,125.43508758544922,123.43558197021484,119.74449157714844,115.32757720947265,111.64848327636719,108.69721069335938,106.1178466796875,106.137841796875,108.27731475830078,110.66476440429688,113.91999969482421,115.98348693847656,117.48309478759765,116.77720794677734,116.52324981689453,115.90335083007812,115.79936981201172,116.8552001953125,118.88287506103515,120.1166763305664,121.19650421142578,122.23233642578126,121.45846099853516,120.5266098022461,120.2886474609375,120.9925323486328,122.24833068847656,125.42581939697266,128.18537292480468,130.57698516845704,132.55266876220702,134.6223388671875,134.3643829345703,134.97828674316406,135.4022216796875,136.0421173095703,137.16993408203126,139.5675476074219,140.3354248046875,141.03131408691405,141.73919982910155,141.10130310058594,140.6333770751953,140.58938293457032,139.05962829589845,137.83182678222656,136.93796997070314,136.67001342773438,137.92381286621094,141.1472961425781,143.59290161132813,145.43460083007812,147.1103271484375,147.2423065185547,146.81836853027343,145.6885498046875,144.66671447753907,144.41075744628907,144.33476867675782,144.3167755126953,144.31077575683594,143.484912109375,141.4672393798828,139.35757751464843,137.6738494873047,137.00995788574218,137.85782165527343,139.50155639648438,141.4472442626953,142.28706970214844,142.3249755859375,141.28900451660155,140.12510986328124,138.58125,136.9434020996094,135.58152770996094,134.64561157226564,132.56580505371093,131.23392639160156,131.32391662597655,132.85777587890624,134.82359619140624,137.027392578125,138.29327697753905,138.85122680664062,137.77532653808595,137.393359375,138.30127563476563,140.78504638671876,141.31499633789062,142.47889099121093,141.99893798828126,139.7511444091797,136.21747131347655,135.4375457763672,134.12966613769532,134.48963317871093,136.00949401855468,139.0712158203125,141.2670135498047,143.07684326171875,139.2191955566406,136.851416015625,132.17784271240234,127.6642562866211,123.15467376708985,122.80270843505859,120.73489685058594,120.96087646484375,121.76679992675781,123.72061767578126,127.10230712890625,129.93204803466796,131.19393310546874,132.51581420898438,134.3176513671875,135.4835418701172,136.76942138671876,138.5632568359375,138.39127197265626,136.67742919921875,134.12366485595703,132.5338119506836,128.54217834472655,126.64035339355469,123.39665069580079,121.26884613037109,118.47310333251953,116.55727844238281,114.11150512695312,112.69563598632813,111.24976959228516,110.93992614746094,111.94396057128907,113.74203186035156,116.25399932861328,117.58999938964844,117.94599914550781,118.53599853515625,117.74199829101562,118.11799926757813,119.16999969482421,118.41800079345703,116.99800109863281,115.39200134277344,112.78600006103515,110.6779998779297,110.00999908447265,108.08399963378906,105.01199951171876,102.86399993896484,100.09400024414063,100.8760009765625,101.79998016357422],\"type\":\"scatter\"},{\"line\":{\"color\":\"orange\",\"width\":1},\"name\":\"SMA 20\",\"x\":[\"2024-04-10T00:00:00\",\"2024-04-11T00:00:00\",\"2024-04-12T00:00:00\",\"2024-04-15T00:00:00\",\"2024-04-16T00:00:00\",\"2024-04-17T00:00:00\",\"2024-04-18T00:00:00\",\"2024-04-19T00:00:00\",\"2024-04-22T00:00:00\",\"2024-04-23T00:00:00\",\"2024-04-24T00:00:00\",\"2024-04-25T00:00:00\",\"2024-04-26T00:00:00\",\"2024-04-29T00:00:00\",\"2024-04-30T00:00:00\",\"2024-05-01T00:00:00\",\"2024-05-02T00:00:00\",\"2024-05-03T00:00:00\",\"2024-05-06T00:00:00\",\"2024-05-07T00:00:00\",\"2024-05-08T00:00:00\",\"2024-05-09T00:00:00\",\"2024-05-10T00:00:00\",\"2024-05-13T00:00:00\",\"2024-05-14T00:00:00\",\"2024-05-15T00:00:00\",\"2024-05-16T00:00:00\",\"2024-05-17T00:00:00\",\"2024-05-20T00:00:00\",\"2024-05-21T00:00:00\",\"2024-05-22T00:00:00\",\"2024-05-23T00:00:00\",\"2024-05-24T00:00:00\",\"2024-05-28T00:00:00\",\"2024-05-29T00:00:00\",\"2024-05-30T00:00:00\",\"2024-05-31T00:00:00\",\"2024-06-03T00:00:00\",\"2024-06-04T00:00:00\",\"2024-06-05T00:00:00\",\"2024-06-06T00:00:00\",\"2024-06-07T00:00:00\",\"2024-06-10T00:00:00\",\"2024-06-11T00:00:00\",\"2024-06-12T00:00:00\",\"2024-06-13T00:00:00\",\"2024-06-14T00:00:00\",\"2024-06-17T00:00:00\",\"2024-06-18T00:00:00\",\"2024-06-20T00:00:00\",\"2024-06-21T00:00:00\",\"2024-06-24T00:00:00\",\"2024-06-25T00:00:00\",\"2024-06-26T00:00:00\",\"2024-06-27T00:00:00\",\"2024-06-28T00:00:00\",\"2024-07-01T00:00:00\",\"2024-07-02T00:00:00\",\"2024-07-03T00:00:00\",\"2024-07-05T00:00:00\",\"2024-07-08T00:00:00\",\"2024-07-09T00:00:00\",\"2024-07-10T00:00:00\",\"2024-07-11T00:00:00\",\"2024-07-12T00:00:00\",\"2024-07-15T00:00:00\",\"2024-07-16T00:00:00\",\"2024-07-17T00:00:00\",\"2024-07-18T00:00:00\",\"2024-07-19T00:00:00\",\"2024-07-22T00:00:00\",\"2024-07-23T00:00:00\",\"2024-07-24T00:00:00\",\"2024-07-25T00:00:00\",\"2024-07-26T00:00:00\",\"2024-07-29T00:00:00\",\"2024-07-30T00:00:00\",\"2024-07-31T00:00:00\",\"2024-08-01T00:00:00\",\"2024-08-02T00:00:00\",\"2024-08-05T00:00:00\",\"2024-08-06T00:00:00\",\"2024-08-07T00:00:00\",\"2024-08-08T00:00:00\",\"2024-08-09T00:00:00\",\"2024-08-12T00:00:00\",\"2024-08-13T00:00:00\",\"2024-08-14T00:00:00\",\"2024-08-15T00:00:00\",\"2024-08-16T00:00:00\",\"2024-08-19T00:00:00\",\"2024-08-20T00:00:00\",\"2024-08-21T00:00:00\",\"2024-08-22T00:00:00\",\"2024-08-23T00:00:00\",\"2024-08-26T00:00:00\",\"2024-08-27T00:00:00\",\"2024-08-28T00:00:00\",\"2024-08-29T00:00:00\",\"2024-08-30T00:00:00\",\"2024-09-03T00:00:00\",\"2024-09-04T00:00:00\",\"2024-09-05T00:00:00\",\"2024-09-06T00:00:00\",\"2024-09-09T00:00:00\",\"2024-09-10T00:00:00\",\"2024-09-11T00:00:00\",\"2024-09-12T00:00:00\",\"2024-09-13T00:00:00\",\"2024-09-16T00:00:00\",\"2024-09-17T00:00:00\",\"2024-09-18T00:00:00\",\"2024-09-19T00:00:00\",\"2024-09-20T00:00:00\",\"2024-09-23T00:00:00\",\"2024-09-24T00:00:00\",\"2024-09-25T00:00:00\",\"2024-09-26T00:00:00\",\"2024-09-27T00:00:00\",\"2024-09-30T00:00:00\",\"2024-10-01T00:00:00\",\"2024-10-02T00:00:00\",\"2024-10-03T00:00:00\",\"2024-10-04T00:00:00\",\"2024-10-07T00:00:00\",\"2024-10-08T00:00:00\",\"2024-10-09T00:00:00\",\"2024-10-10T00:00:00\",\"2024-10-11T00:00:00\",\"2024-10-14T00:00:00\",\"2024-10-15T00:00:00\",\"2024-10-16T00:00:00\",\"2024-10-17T00:00:00\",\"2024-10-18T00:00:00\",\"2024-10-21T00:00:00\",\"2024-10-22T00:00:00\",\"2024-10-23T00:00:00\",\"2024-10-24T00:00:00\",\"2024-10-25T00:00:00\",\"2024-10-28T00:00:00\",\"2024-10-29T00:00:00\",\"2024-10-30T00:00:00\",\"2024-10-31T00:00:00\",\"2024-11-01T00:00:00\",\"2024-11-04T00:00:00\",\"2024-11-05T00:00:00\",\"2024-11-06T00:00:00\",\"2024-11-07T00:00:00\",\"2024-11-08T00:00:00\",\"2024-11-11T00:00:00\",\"2024-11-12T00:00:00\",\"2024-11-13T00:00:00\",\"2024-11-14T00:00:00\",\"2024-11-15T00:00:00\",\"2024-11-18T00:00:00\",\"2024-11-19T00:00:00\",\"2024-11-20T00:00:00\",\"2024-11-21T00:00:00\",\"2024-11-22T00:00:00\",\"2024-11-25T00:00:00\",\"2024-11-26T00:00:00\",\"2024-11-27T00:00:00\",\"2024-11-29T00:00:00\",\"2024-12-02T00:00:00\",\"2024-12-03T00:00:00\",\"2024-12-04T00:00:00\",\"2024-12-05T00:00:00\",\"2024-12-06T00:00:00\",\"2024-12-09T00:00:00\",\"2024-12-10T00:00:00\",\"2024-12-11T00:00:00\",\"2024-12-12T00:00:00\",\"2024-12-13T00:00:00\",\"2024-12-16T00:00:00\",\"2024-12-17T00:00:00\",\"2024-12-18T00:00:00\",\"2024-12-19T00:00:00\",\"2024-12-20T00:00:00\",\"2024-12-23T00:00:00\",\"2024-12-24T00:00:00\",\"2024-12-26T00:00:00\",\"2024-12-27T00:00:00\",\"2024-12-30T00:00:00\",\"2024-12-31T00:00:00\",\"2025-01-02T00:00:00\",\"2025-01-03T00:00:00\",\"2025-01-06T00:00:00\",\"2025-01-07T00:00:00\",\"2025-01-08T00:00:00\",\"2025-01-10T00:00:00\",\"2025-01-13T00:00:00\",\"2025-01-14T00:00:00\",\"2025-01-15T00:00:00\",\"2025-01-16T00:00:00\",\"2025-01-17T00:00:00\",\"2025-01-21T00:00:00\",\"2025-01-22T00:00:00\",\"2025-01-23T00:00:00\",\"2025-01-24T00:00:00\",\"2025-01-27T00:00:00\",\"2025-01-28T00:00:00\",\"2025-01-29T00:00:00\",\"2025-01-30T00:00:00\",\"2025-01-31T00:00:00\",\"2025-02-03T00:00:00\",\"2025-02-04T00:00:00\",\"2025-02-05T00:00:00\",\"2025-02-06T00:00:00\",\"2025-02-07T00:00:00\",\"2025-02-10T00:00:00\",\"2025-02-11T00:00:00\",\"2025-02-12T00:00:00\",\"2025-02-13T00:00:00\",\"2025-02-14T00:00:00\",\"2025-02-18T00:00:00\",\"2025-02-19T00:00:00\",\"2025-02-20T00:00:00\",\"2025-02-21T00:00:00\",\"2025-02-24T00:00:00\",\"2025-02-25T00:00:00\",\"2025-02-26T00:00:00\",\"2025-02-27T00:00:00\",\"2025-02-28T00:00:00\",\"2025-03-03T00:00:00\",\"2025-03-04T00:00:00\",\"2025-03-05T00:00:00\",\"2025-03-06T00:00:00\",\"2025-03-07T00:00:00\",\"2025-03-10T00:00:00\",\"2025-03-11T00:00:00\",\"2025-03-12T00:00:00\",\"2025-03-13T00:00:00\",\"2025-03-14T00:00:00\",\"2025-03-17T00:00:00\",\"2025-03-18T00:00:00\",\"2025-03-19T00:00:00\",\"2025-03-20T00:00:00\",\"2025-03-21T00:00:00\",\"2025-03-24T00:00:00\",\"2025-03-25T00:00:00\",\"2025-03-26T00:00:00\",\"2025-03-27T00:00:00\",\"2025-03-28T00:00:00\",\"2025-03-31T00:00:00\",\"2025-04-01T00:00:00\",\"2025-04-02T00:00:00\",\"2025-04-03T00:00:00\",\"2025-04-04T00:00:00\",\"2025-04-07T00:00:00\",\"2025-04-08T00:00:00\",\"2025-04-09T00:00:00\",\"2025-04-10T00:00:00\"],\"y\":[null,null,null,null,null,null,null,null,null,null,null,null,null,null,null,null,null,null,null,85.50430183410644,85.67289657592774,85.57947731018066,85.66404991149902,85.88387794494629,86.08086357116699,86.61043930053711,87.09468002319336,87.9083625793457,88.67121200561523,89.31914939880372,90.08254814147949,91.14055023193359,92.07694282531739,93.38371353149414,94.80439682006836,96.17689590454101,97.36730461120605,98.6774242401123,99.89187545776367,101.48565216064453,103.01445007324219,104.62097244262695,106.21604804992675,107.74159317016601,109.43375091552734,111.18270950317383,113.05868530273438,114.98364143371582,117.02352828979492,118.79318428039551,120.3741844177246,121.08998413085938,122.07122917175293,122.69649276733398,123.1551010131836,123.80739402770996,124.5410140991211,124.92489128112793,125.51737365722656,125.68733444213868,126.04784126281739,126.5728084564209,127.2291473388672,127.5535675048828,127.75551872253418,127.69703254699706,127.42110023498535,126.77175979614258,126.04743804931641,125.40509567260742,125.25363311767578,125.47757759094239,124.8857234954834,124.17989692687988,123.6335319519043,123.03617897033692,122.00793190002442,121.7255012512207,120.77223625183106,119.84446487426757,118.45730743408203,117.10114097595215,115.30158424377441,114.18036041259765,112.9561611175537,111.985400390625,111.47452583312989,111.47902488708496,111.5675033569336,111.89992141723633,112.22284126281738,112.45578422546387,113.16810874938965,113.74096794128418,114.55626678466797,115.29958381652833,116.5277816772461,116.95717658996583,117.37607269287109,117.98092384338379,118.3583309173584,118.45630683898926,118.8712043762207,118.76423034667968,118.85020942687989,118.8042205810547,118.84271125793457,118.89620742797851,118.70876235961914,118.31935768127441,117.59953002929687,116.90618553161622,116.37532081604004,115.98891220092773,115.33407135009766,115.0551570892334,114.81624374389648,114.73829345703125,114.92926635742188,115.03325996398925,115.48364944458008,116.11600189208984,116.89833450317383,118.00309677124024,119.06588096618653,120.30564384460449,121.09301643371582,121.87638969421387,122.66126403808593,123.72559394836426,124.52596588134766,125.6432861328125,126.59613265991212,127.69595565795899,129.06823501586913,130.204052734375,131.00642356872558,131.824792098999,132.83162956237794,133.7854766845703,134.99778175354004,136.02211685180663,136.51753730773925,137.04145317077638,137.45788650512696,137.80883026123047,138.45672683715821,139.16011505126954,139.80151138305663,140.16095199584962,140.99531631469728,141.52273178100586,142.014151763916,142.21311950683594,142.03514709472657,142.20611877441405,142.52256774902344,142.83551712036132,142.85601348876952,142.63104934692382,142.41458435058593,142.21461639404296,142.48907241821288,142.65054626464843,142.86101226806642,143.12247009277343,143.09547424316406,142.77401580810547,142.33356475830078,141.82461318969726,141.37616577148438,140.9302101135254,140.30527420043944,139.80680923461915,139.3193374633789,138.41492767333983,137.65499954223634,137.05705947875975,136.9435592651367,137.1540084838867,137.3049659729004,137.388924407959,137.35140380859374,137.13490142822266,137.03789291381835,137.0048957824707,137.22337493896484,137.1083854675293,137.17338027954102,137.2153762817383,136.91140441894532,136.63243026733397,136.73192138671874,136.8104148864746,137.1763816833496,137.77232666015624,138.5917526245117,139.2176956176758,139.36518173217775,138.2752815246582,137.72833251953125,137.06289405822753,136.4209529876709,135.71001853942872,134.62761878967285,133.33673782348632,132.1068515777588,131.5339038848877,131.02045021057128,130.9034610748291,130.8819637298584,130.85096702575683,130.803470993042,131.06744651794435,131.15193824768068,131.07194557189942,130.72397727966307,130.08453559875488,129.46759300231935,129.87805557250977,129.99254455566407,129.81506118774413,129.82855987548828,129.52808723449706,129.49458999633788,129.42709617614747,128.71416168212892,127.91473617553712,126.77184181213379,125.53145561218261,124.6790657043457,123.90166854858398,123.2212905883789,122.25592880249023,121.05806999206543,119.97321014404297,118.89485397338868,118.05897216796875,117.61607131958007,117.31965370178223,116.44425735473632,116.00880966186523,115.24688415527343,114.96340866088867,114.67194213867188,114.3284812927246,113.8904899597168,112.97200775146484,112.50549964904785,111.88299980163575,111.8125,111.35449485778808],\"type\":\"scatter\"},{\"line\":{\"color\":\"purple\",\"width\":1},\"name\":\"SMA 50\",\"x\":[\"2024-04-10T00:00:00\",\"2024-04-11T00:00:00\",\"2024-04-12T00:00:00\",\"2024-04-15T00:00:00\",\"2024-04-16T00:00:00\",\"2024-04-17T00:00:00\",\"2024-04-18T00:00:00\",\"2024-04-19T00:00:00\",\"2024-04-22T00:00:00\",\"2024-04-23T00:00:00\",\"2024-04-24T00:00:00\",\"2024-04-25T00:00:00\",\"2024-04-26T00:00:00\",\"2024-04-29T00:00:00\",\"2024-04-30T00:00:00\",\"2024-05-01T00:00:00\",\"2024-05-02T00:00:00\",\"2024-05-03T00:00:00\",\"2024-05-06T00:00:00\",\"2024-05-07T00:00:00\",\"2024-05-08T00:00:00\",\"2024-05-09T00:00:00\",\"2024-05-10T00:00:00\",\"2024-05-13T00:00:00\",\"2024-05-14T00:00:00\",\"2024-05-15T00:00:00\",\"2024-05-16T00:00:00\",\"2024-05-17T00:00:00\",\"2024-05-20T00:00:00\",\"2024-05-21T00:00:00\",\"2024-05-22T00:00:00\",\"2024-05-23T00:00:00\",\"2024-05-24T00:00:00\",\"2024-05-28T00:00:00\",\"2024-05-29T00:00:00\",\"2024-05-30T00:00:00\",\"2024-05-31T00:00:00\",\"2024-06-03T00:00:00\",\"2024-06-04T00:00:00\",\"2024-06-05T00:00:00\",\"2024-06-06T00:00:00\",\"2024-06-07T00:00:00\",\"2024-06-10T00:00:00\",\"2024-06-11T00:00:00\",\"2024-06-12T00:00:00\",\"2024-06-13T00:00:00\",\"2024-06-14T00:00:00\",\"2024-06-17T00:00:00\",\"2024-06-18T00:00:00\",\"2024-06-20T00:00:00\",\"2024-06-21T00:00:00\",\"2024-06-24T00:00:00\",\"2024-06-25T00:00:00\",\"2024-06-26T00:00:00\",\"2024-06-27T00:00:00\",\"2024-06-28T00:00:00\",\"2024-07-01T00:00:00\",\"2024-07-02T00:00:00\",\"2024-07-03T00:00:00\",\"2024-07-05T00:00:00\",\"2024-07-08T00:00:00\",\"2024-07-09T00:00:00\",\"2024-07-10T00:00:00\",\"2024-07-11T00:00:00\",\"2024-07-12T00:00:00\",\"2024-07-15T00:00:00\",\"2024-07-16T00:00:00\",\"2024-07-17T00:00:00\",\"2024-07-18T00:00:00\",\"2024-07-19T00:00:00\",\"2024-07-22T00:00:00\",\"2024-07-23T00:00:00\",\"2024-07-24T00:00:00\",\"2024-07-25T00:00:00\",\"2024-07-26T00:00:00\",\"2024-07-29T00:00:00\",\"2024-07-30T00:00:00\",\"2024-07-31T00:00:00\",\"2024-08-01T00:00:00\",\"2024-08-02T00:00:00\",\"2024-08-05T00:00:00\",\"2024-08-06T00:00:00\",\"2024-08-07T00:00:00\",\"2024-08-08T00:00:00\",\"2024-08-09T00:00:00\",\"2024-08-12T00:00:00\",\"2024-08-13T00:00:00\",\"2024-08-14T00:00:00\",\"2024-08-15T00:00:00\",\"2024-08-16T00:00:00\",\"2024-08-19T00:00:00\",\"2024-08-20T00:00:00\",\"2024-08-21T00:00:00\",\"2024-08-22T00:00:00\",\"2024-08-23T00:00:00\",\"2024-08-26T00:00:00\",\"2024-08-27T00:00:00\",\"2024-08-28T00:00:00\",\"2024-08-29T00:00:00\",\"2024-08-30T00:00:00\",\"2024-09-03T00:00:00\",\"2024-09-04T00:00:00\",\"2024-09-05T00:00:00\",\"2024-09-06T00:00:00\",\"2024-09-09T00:00:00\",\"2024-09-10T00:00:00\",\"2024-09-11T00:00:00\",\"2024-09-12T00:00:00\",\"2024-09-13T00:00:00\",\"2024-09-16T00:00:00\",\"2024-09-17T00:00:00\",\"2024-09-18T00:00:00\",\"2024-09-19T00:00:00\",\"2024-09-20T00:00:00\",\"2024-09-23T00:00:00\",\"2024-09-24T00:00:00\",\"2024-09-25T00:00:00\",\"2024-09-26T00:00:00\",\"2024-09-27T00:00:00\",\"2024-09-30T00:00:00\",\"2024-10-01T00:00:00\",\"2024-10-02T00:00:00\",\"2024-10-03T00:00:00\",\"2024-10-04T00:00:00\",\"2024-10-07T00:00:00\",\"2024-10-08T00:00:00\",\"2024-10-09T00:00:00\",\"2024-10-10T00:00:00\",\"2024-10-11T00:00:00\",\"2024-10-14T00:00:00\",\"2024-10-15T00:00:00\",\"2024-10-16T00:00:00\",\"2024-10-17T00:00:00\",\"2024-10-18T00:00:00\",\"2024-10-21T00:00:00\",\"2024-10-22T00:00:00\",\"2024-10-23T00:00:00\",\"2024-10-24T00:00:00\",\"2024-10-25T00:00:00\",\"2024-10-28T00:00:00\",\"2024-10-29T00:00:00\",\"2024-10-30T00:00:00\",\"2024-10-31T00:00:00\",\"2024-11-01T00:00:00\",\"2024-11-04T00:00:00\",\"2024-11-05T00:00:00\",\"2024-11-06T00:00:00\",\"2024-11-07T00:00:00\",\"2024-11-08T00:00:00\",\"2024-11-11T00:00:00\",\"2024-11-12T00:00:00\",\"2024-11-13T00:00:00\",\"2024-11-14T00:00:00\",\"2024-11-15T00:00:00\",\"2024-11-18T00:00:00\",\"2024-11-19T00:00:00\",\"2024-11-20T00:00:00\",\"2024-11-21T00:00:00\",\"2024-11-22T00:00:00\",\"2024-11-25T00:00:00\",\"2024-11-26T00:00:00\",\"2024-11-27T00:00:00\",\"2024-11-29T00:00:00\",\"2024-12-02T00:00:00\",\"2024-12-03T00:00:00\",\"2024-12-04T00:00:00\",\"2024-12-05T00:00:00\",\"2024-12-06T00:00:00\",\"2024-12-09T00:00:00\",\"2024-12-10T00:00:00\",\"2024-12-11T00:00:00\",\"2024-12-12T00:00:00\",\"2024-12-13T00:00:00\",\"2024-12-16T00:00:00\",\"2024-12-17T00:00:00\",\"2024-12-18T00:00:00\",\"2024-12-19T00:00:00\",\"2024-12-20T00:00:00\",\"2024-12-23T00:00:00\",\"2024-12-24T00:00:00\",\"2024-12-26T00:00:00\",\"2024-12-27T00:00:00\",\"2024-12-30T00:00:00\",\"2024-12-31T00:00:00\",\"2025-01-02T00:00:00\",\"2025-01-03T00:00:00\",\"2025-01-06T00:00:00\",\"2025-01-07T00:00:00\",\"2025-01-08T00:00:00\",\"2025-01-10T00:00:00\",\"2025-01-13T00:00:00\",\"2025-01-14T00:00:00\",\"2025-01-15T00:00:00\",\"2025-01-16T00:00:00\",\"2025-01-17T00:00:00\",\"2025-01-21T00:00:00\",\"2025-01-22T00:00:00\",\"2025-01-23T00:00:00\",\"2025-01-24T00:00:00\",\"2025-01-27T00:00:00\",\"2025-01-28T00:00:00\",\"2025-01-29T00:00:00\",\"2025-01-30T00:00:00\",\"2025-01-31T00:00:00\",\"2025-02-03T00:00:00\",\"2025-02-04T00:00:00\",\"2025-02-05T00:00:00\",\"2025-02-06T00:00:00\",\"2025-02-07T00:00:00\",\"2025-02-10T00:00:00\",\"2025-02-11T00:00:00\",\"2025-02-12T00:00:00\",\"2025-02-13T00:00:00\",\"2025-02-14T00:00:00\",\"2025-02-18T00:00:00\",\"2025-02-19T00:00:00\",\"2025-02-20T00:00:00\",\"2025-02-21T00:00:00\",\"2025-02-24T00:00:00\",\"2025-02-25T00:00:00\",\"2025-02-26T00:00:00\",\"2025-02-27T00:00:00\",\"2025-02-28T00:00:00\",\"2025-03-03T00:00:00\",\"2025-03-04T00:00:00\",\"2025-03-05T00:00:00\",\"2025-03-06T00:00:00\",\"2025-03-07T00:00:00\",\"2025-03-10T00:00:00\",\"2025-03-11T00:00:00\",\"2025-03-12T00:00:00\",\"2025-03-13T00:00:00\",\"2025-03-14T00:00:00\",\"2025-03-17T00:00:00\",\"2025-03-18T00:00:00\",\"2025-03-19T00:00:00\",\"2025-03-20T00:00:00\",\"2025-03-21T00:00:00\",\"2025-03-24T00:00:00\",\"2025-03-25T00:00:00\",\"2025-03-26T00:00:00\",\"2025-03-27T00:00:00\",\"2025-03-28T00:00:00\",\"2025-03-31T00:00:00\",\"2025-04-01T00:00:00\",\"2025-04-02T00:00:00\",\"2025-04-03T00:00:00\",\"2025-04-04T00:00:00\",\"2025-04-07T00:00:00\",\"2025-04-08T00:00:00\",\"2025-04-09T00:00:00\",\"2025-04-10T00:00:00\"],\"y\":[null,null,null,null,null,null,null,null,null,null,null,null,null,null,null,null,null,null,null,null,null,null,null,null,null,null,null,null,null,null,null,null,null,null,null,null,null,null,null,null,null,null,null,null,null,null,null,null,null,100.16145431518555,100.95202239990235,101.5019157409668,102.25995376586914,103.0678759765625,103.7993391418457,104.58938247680663,105.38190643310547,106.31120254516601,107.2863330078125,108.15439453125,109.12474578857422,110.0996012878418,111.04301315307617,111.83582199096679,112.69251327514648,113.60040603637695,114.41120727539062,114.99522918701172,115.57423797607422,116.12177185058594,116.78431701660156,117.46115585327148,117.94862319946289,118.38628356933594,118.82040649414063,119.15967834472656,119.3472071838379,119.83805801391601,120.12674270629883,120.36452072143555,120.47464950561523,120.48383758544922,120.33286972045899,120.1544807434082,119.95321899414063,119.92380783081055,120.05409576416015,120.11586944580078,120.24448913574219,120.28747955322265,120.46767349243164,120.59508056640625,120.72944747924805,120.7860334777832,120.86941284179687,120.80642807006836,120.73484573364257,120.62747207641601,120.2677604675293,120.03961654663085,119.66830810546875,119.43036666870117,119.05285980224609,118.58157577514649,118.23126235961914,117.92253845214844,117.77477462768555,117.70439590454102,117.52104461669921,117.34028884887695,117.08834899902344,116.72843139648438,116.38791687011718,116.16017135620118,115.90083389282226,115.74967788696289,115.69290313720703,115.81408554077149,115.82049179077148,115.8908822631836,115.76031463623048,115.68573638916016,115.85790420532227,116.11085571289063,116.40420196533204,116.83032440185546,117.40880844116211,117.76475128173828,118.27665573120117,118.89274047851562,119.51581237792969,120.14528945922852,120.90573623657227,121.5664094543457,122.34566345214844,123.03713882446289,123.50566223144531,123.95239242553711,124.32614227294921,124.64510437011718,124.87029083251953,125.11226943969727,125.19767562866211,125.4310498046875,125.56484985351562,125.83402297973633,126.18038650512695,126.64592666625977,127.24683120727539,127.76475173950195,128.57060653686523,129.37185943603515,130.1629151916504,130.9459651184082,131.61963851928712,132.39789810180665,132.97760482788087,133.52811630249025,133.98504272460937,134.36978103637696,134.79631256103517,135.23564178466796,135.64317626953124,136.09570343017577,136.57562622070313,137.06094818115236,137.49207870483397,137.86021560668945,138.20855056762696,138.48129302978515,138.92761306762696,139.29754272460937,139.52569107055663,139.66745010375976,139.72102111816406,139.64161163330078,139.60239807128906,139.60038421630858,139.6979608154297,139.74114685058595,139.90791259765626,139.93389709472658,139.9452847290039,139.87128173828125,139.7634893798828,139.78128540039063,139.97885925292968,139.97365295410157,139.9452508544922,139.85325286865233,139.69306213378906,139.5416680908203,139.61144470214845,139.57503479003907,139.60841918945312,139.6270101928711,139.65640838623048,139.6234164428711,139.52342895507812,138.98687866210938,138.60111907958984,138.14996200561524,137.70800521850586,137.27004135131835,136.80047805786134,136.23353302001954,135.81257278442382,135.45300765991212,135.21102554321288,135.16221755981445,135.08001388549803,134.99620834350586,134.93720413208007,134.94179489135743,134.92478958129882,134.8068003845215,134.70780960083007,134.54762435913085,134.37704025268556,134.20825561523438,134.04767059326173,133.70390243530272,133.5173194885254,133.15855255126954,132.87057907104492,132.6384004211426,132.23623764038086,131.79607833862303,131.14233856201173,130.5131964111328,130.02965377807618,129.60130599975585,129.28515884399414,128.99020584106447,128.53286041259764,127.99412612915039,127.37640121459961,126.92785903930664,126.55411666870117,126.24996658325195,125.86081176757813,125.45445419311524,124.92330459594727,124.41975006103516,123.86880325317382,123.26086227416992,122.35573257446289,121.29780319213867,120.39846572875976,119.95628372192382,119.66332077026367,119.31794631958007],\"type\":\"scatter\"}],                        {\"template\":{\"data\":{\"histogram2dcontour\":[{\"type\":\"histogram2dcontour\",\"colorbar\":{\"outlinewidth\":0,\"ticks\":\"\"},\"colorscale\":[[0.0,\"#0d0887\"],[0.1111111111111111,\"#46039f\"],[0.2222222222222222,\"#7201a8\"],[0.3333333333333333,\"#9c179e\"],[0.4444444444444444,\"#bd3786\"],[0.5555555555555556,\"#d8576b\"],[0.6666666666666666,\"#ed7953\"],[0.7777777777777778,\"#fb9f3a\"],[0.8888888888888888,\"#fdca26\"],[1.0,\"#f0f921\"]]}],\"choropleth\":[{\"type\":\"choropleth\",\"colorbar\":{\"outlinewidth\":0,\"ticks\":\"\"}}],\"histogram2d\":[{\"type\":\"histogram2d\",\"colorbar\":{\"outlinewidth\":0,\"ticks\":\"\"},\"colorscale\":[[0.0,\"#0d0887\"],[0.1111111111111111,\"#46039f\"],[0.2222222222222222,\"#7201a8\"],[0.3333333333333333,\"#9c179e\"],[0.4444444444444444,\"#bd3786\"],[0.5555555555555556,\"#d8576b\"],[0.6666666666666666,\"#ed7953\"],[0.7777777777777778,\"#fb9f3a\"],[0.8888888888888888,\"#fdca26\"],[1.0,\"#f0f921\"]]}],\"heatmap\":[{\"type\":\"heatmap\",\"colorbar\":{\"outlinewidth\":0,\"ticks\":\"\"},\"colorscale\":[[0.0,\"#0d0887\"],[0.1111111111111111,\"#46039f\"],[0.2222222222222222,\"#7201a8\"],[0.3333333333333333,\"#9c179e\"],[0.4444444444444444,\"#bd3786\"],[0.5555555555555556,\"#d8576b\"],[0.6666666666666666,\"#ed7953\"],[0.7777777777777778,\"#fb9f3a\"],[0.8888888888888888,\"#fdca26\"],[1.0,\"#f0f921\"]]}],\"heatmapgl\":[{\"type\":\"heatmapgl\",\"colorbar\":{\"outlinewidth\":0,\"ticks\":\"\"},\"colorscale\":[[0.0,\"#0d0887\"],[0.1111111111111111,\"#46039f\"],[0.2222222222222222,\"#7201a8\"],[0.3333333333333333,\"#9c179e\"],[0.4444444444444444,\"#bd3786\"],[0.5555555555555556,\"#d8576b\"],[0.6666666666666666,\"#ed7953\"],[0.7777777777777778,\"#fb9f3a\"],[0.8888888888888888,\"#fdca26\"],[1.0,\"#f0f921\"]]}],\"contourcarpet\":[{\"type\":\"contourcarpet\",\"colorbar\":{\"outlinewidth\":0,\"ticks\":\"\"}}],\"contour\":[{\"type\":\"contour\",\"colorbar\":{\"outlinewidth\":0,\"ticks\":\"\"},\"colorscale\":[[0.0,\"#0d0887\"],[0.1111111111111111,\"#46039f\"],[0.2222222222222222,\"#7201a8\"],[0.3333333333333333,\"#9c179e\"],[0.4444444444444444,\"#bd3786\"],[0.5555555555555556,\"#d8576b\"],[0.6666666666666666,\"#ed7953\"],[0.7777777777777778,\"#fb9f3a\"],[0.8888888888888888,\"#fdca26\"],[1.0,\"#f0f921\"]]}],\"surface\":[{\"type\":\"surface\",\"colorbar\":{\"outlinewidth\":0,\"ticks\":\"\"},\"colorscale\":[[0.0,\"#0d0887\"],[0.1111111111111111,\"#46039f\"],[0.2222222222222222,\"#7201a8\"],[0.3333333333333333,\"#9c179e\"],[0.4444444444444444,\"#bd3786\"],[0.5555555555555556,\"#d8576b\"],[0.6666666666666666,\"#ed7953\"],[0.7777777777777778,\"#fb9f3a\"],[0.8888888888888888,\"#fdca26\"],[1.0,\"#f0f921\"]]}],\"mesh3d\":[{\"type\":\"mesh3d\",\"colorbar\":{\"outlinewidth\":0,\"ticks\":\"\"}}],\"scatter\":[{\"fillpattern\":{\"fillmode\":\"overlay\",\"size\":10,\"solidity\":0.2},\"type\":\"scatter\"}],\"parcoords\":[{\"type\":\"parcoords\",\"line\":{\"colorbar\":{\"outlinewidth\":0,\"ticks\":\"\"}}}],\"scatterpolargl\":[{\"type\":\"scatterpolargl\",\"marker\":{\"colorbar\":{\"outlinewidth\":0,\"ticks\":\"\"}}}],\"bar\":[{\"error_x\":{\"color\":\"#2a3f5f\"},\"error_y\":{\"color\":\"#2a3f5f\"},\"marker\":{\"line\":{\"color\":\"#E5ECF6\",\"width\":0.5},\"pattern\":{\"fillmode\":\"overlay\",\"size\":10,\"solidity\":0.2}},\"type\":\"bar\"}],\"scattergeo\":[{\"type\":\"scattergeo\",\"marker\":{\"colorbar\":{\"outlinewidth\":0,\"ticks\":\"\"}}}],\"scatterpolar\":[{\"type\":\"scatterpolar\",\"marker\":{\"colorbar\":{\"outlinewidth\":0,\"ticks\":\"\"}}}],\"histogram\":[{\"marker\":{\"pattern\":{\"fillmode\":\"overlay\",\"size\":10,\"solidity\":0.2}},\"type\":\"histogram\"}],\"scattergl\":[{\"type\":\"scattergl\",\"marker\":{\"colorbar\":{\"outlinewidth\":0,\"ticks\":\"\"}}}],\"scatter3d\":[{\"type\":\"scatter3d\",\"line\":{\"colorbar\":{\"outlinewidth\":0,\"ticks\":\"\"}},\"marker\":{\"colorbar\":{\"outlinewidth\":0,\"ticks\":\"\"}}}],\"scattermapbox\":[{\"type\":\"scattermapbox\",\"marker\":{\"colorbar\":{\"outlinewidth\":0,\"ticks\":\"\"}}}],\"scatterternary\":[{\"type\":\"scatterternary\",\"marker\":{\"colorbar\":{\"outlinewidth\":0,\"ticks\":\"\"}}}],\"scattercarpet\":[{\"type\":\"scattercarpet\",\"marker\":{\"colorbar\":{\"outlinewidth\":0,\"ticks\":\"\"}}}],\"carpet\":[{\"aaxis\":{\"endlinecolor\":\"#2a3f5f\",\"gridcolor\":\"white\",\"linecolor\":\"white\",\"minorgridcolor\":\"white\",\"startlinecolor\":\"#2a3f5f\"},\"baxis\":{\"endlinecolor\":\"#2a3f5f\",\"gridcolor\":\"white\",\"linecolor\":\"white\",\"minorgridcolor\":\"white\",\"startlinecolor\":\"#2a3f5f\"},\"type\":\"carpet\"}],\"table\":[{\"cells\":{\"fill\":{\"color\":\"#EBF0F8\"},\"line\":{\"color\":\"white\"}},\"header\":{\"fill\":{\"color\":\"#C8D4E3\"},\"line\":{\"color\":\"white\"}},\"type\":\"table\"}],\"barpolar\":[{\"marker\":{\"line\":{\"color\":\"#E5ECF6\",\"width\":0.5},\"pattern\":{\"fillmode\":\"overlay\",\"size\":10,\"solidity\":0.2}},\"type\":\"barpolar\"}],\"pie\":[{\"automargin\":true,\"type\":\"pie\"}]},\"layout\":{\"autotypenumbers\":\"strict\",\"colorway\":[\"#636efa\",\"#EF553B\",\"#00cc96\",\"#ab63fa\",\"#FFA15A\",\"#19d3f3\",\"#FF6692\",\"#B6E880\",\"#FF97FF\",\"#FECB52\"],\"font\":{\"color\":\"#2a3f5f\"},\"hovermode\":\"closest\",\"hoverlabel\":{\"align\":\"left\"},\"paper_bgcolor\":\"white\",\"plot_bgcolor\":\"#E5ECF6\",\"polar\":{\"bgcolor\":\"#E5ECF6\",\"angularaxis\":{\"gridcolor\":\"white\",\"linecolor\":\"white\",\"ticks\":\"\"},\"radialaxis\":{\"gridcolor\":\"white\",\"linecolor\":\"white\",\"ticks\":\"\"}},\"ternary\":{\"bgcolor\":\"#E5ECF6\",\"aaxis\":{\"gridcolor\":\"white\",\"linecolor\":\"white\",\"ticks\":\"\"},\"baxis\":{\"gridcolor\":\"white\",\"linecolor\":\"white\",\"ticks\":\"\"},\"caxis\":{\"gridcolor\":\"white\",\"linecolor\":\"white\",\"ticks\":\"\"}},\"coloraxis\":{\"colorbar\":{\"outlinewidth\":0,\"ticks\":\"\"}},\"colorscale\":{\"sequential\":[[0.0,\"#0d0887\"],[0.1111111111111111,\"#46039f\"],[0.2222222222222222,\"#7201a8\"],[0.3333333333333333,\"#9c179e\"],[0.4444444444444444,\"#bd3786\"],[0.5555555555555556,\"#d8576b\"],[0.6666666666666666,\"#ed7953\"],[0.7777777777777778,\"#fb9f3a\"],[0.8888888888888888,\"#fdca26\"],[1.0,\"#f0f921\"]],\"sequentialminus\":[[0.0,\"#0d0887\"],[0.1111111111111111,\"#46039f\"],[0.2222222222222222,\"#7201a8\"],[0.3333333333333333,\"#9c179e\"],[0.4444444444444444,\"#bd3786\"],[0.5555555555555556,\"#d8576b\"],[0.6666666666666666,\"#ed7953\"],[0.7777777777777778,\"#fb9f3a\"],[0.8888888888888888,\"#fdca26\"],[1.0,\"#f0f921\"]],\"diverging\":[[0,\"#8e0152\"],[0.1,\"#c51b7d\"],[0.2,\"#de77ae\"],[0.3,\"#f1b6da\"],[0.4,\"#fde0ef\"],[0.5,\"#f7f7f7\"],[0.6,\"#e6f5d0\"],[0.7,\"#b8e186\"],[0.8,\"#7fbc41\"],[0.9,\"#4d9221\"],[1,\"#276419\"]]},\"xaxis\":{\"gridcolor\":\"white\",\"linecolor\":\"white\",\"ticks\":\"\",\"title\":{\"standoff\":15},\"zerolinecolor\":\"white\",\"automargin\":true,\"zerolinewidth\":2},\"yaxis\":{\"gridcolor\":\"white\",\"linecolor\":\"white\",\"ticks\":\"\",\"title\":{\"standoff\":15},\"zerolinecolor\":\"white\",\"automargin\":true,\"zerolinewidth\":2},\"scene\":{\"xaxis\":{\"backgroundcolor\":\"#E5ECF6\",\"gridcolor\":\"white\",\"linecolor\":\"white\",\"showbackground\":true,\"ticks\":\"\",\"zerolinecolor\":\"white\",\"gridwidth\":2},\"yaxis\":{\"backgroundcolor\":\"#E5ECF6\",\"gridcolor\":\"white\",\"linecolor\":\"white\",\"showbackground\":true,\"ticks\":\"\",\"zerolinecolor\":\"white\",\"gridwidth\":2},\"zaxis\":{\"backgroundcolor\":\"#E5ECF6\",\"gridcolor\":\"white\",\"linecolor\":\"white\",\"showbackground\":true,\"ticks\":\"\",\"zerolinecolor\":\"white\",\"gridwidth\":2}},\"shapedefaults\":{\"line\":{\"color\":\"#2a3f5f\"}},\"annotationdefaults\":{\"arrowcolor\":\"#2a3f5f\",\"arrowhead\":0,\"arrowwidth\":1},\"geo\":{\"bgcolor\":\"white\",\"landcolor\":\"#E5ECF6\",\"subunitcolor\":\"white\",\"showland\":true,\"showlakes\":true,\"lakecolor\":\"white\"},\"title\":{\"x\":0.05},\"mapbox\":{\"style\":\"light\"}}},\"xaxis\":{\"rangeslider\":{\"visible\":false},\"title\":{\"text\":\"Date\"}},\"title\":{\"text\":\"Apple Stock Price and SMA Analysis\"},\"yaxis\":{\"title\":{\"text\":\"Stock Price (USD)\"}},\"height\":800},                        {\"responsive\": true}                    ).then(function(){\n",
              "                            \n",
              "var gd = document.getElementById('47581914-cd90-456d-9ac5-11a357f86e93');\n",
              "var x = new MutationObserver(function (mutations, observer) {{\n",
              "        var display = window.getComputedStyle(gd).display;\n",
              "        if (!display || display === 'none') {{\n",
              "            console.log([gd, 'removed!']);\n",
              "            Plotly.purge(gd);\n",
              "            observer.disconnect();\n",
              "        }}\n",
              "}});\n",
              "\n",
              "// Listen for the removal of the full notebook cells\n",
              "var notebookContainer = gd.closest('#notebook-container');\n",
              "if (notebookContainer) {{\n",
              "    x.observe(notebookContainer, {childList: true});\n",
              "}}\n",
              "\n",
              "// Listen for the clearing of the current output cell\n",
              "var outputEl = gd.closest('.output');\n",
              "if (outputEl) {{\n",
              "    x.observe(outputEl, {childList: true});\n",
              "}}\n",
              "\n",
              "                        })                };                            </script>        </div>\n",
              "</body>\n",
              "</html>"
            ]
          },
          "metadata": {}
        }
      ]
    },
    {
      "cell_type": "code",
      "source": [
        "# Drop rows where technical indicators (SMA or RSI) are NaN\n",
        "df = df.dropna(subset=['SMA 5', 'SMA 20', 'SMA 50', 'RSI'])\n",
        "\n",
        "# Prepare data for LSTM\n",
        "def prepare_data(df, look_back=10):\n",
        "    features = ['Close', 'SMA 5', 'SMA 20', 'SMA 50', 'Price Change', 'RSI']\n",
        "\n",
        "    # Scale the features\n",
        "    scaler = StandardScaler()\n",
        "    scaled_data = scaler.fit_transform(df[features])\n",
        "\n",
        "    # Prepare sequences for LSTM (look_back time steps)\n",
        "    X, y = [], []\n",
        "    for i in range(look_back, len(scaled_data) - 1):\n",
        "        X.append(scaled_data[i - look_back:i])  # Get the previous 'look_back' rows\n",
        "        y.append(df['Target'].iloc[i])  # The target (next day's movement)\n",
        "\n",
        "    # Convert to numpy arrays\n",
        "    return np.array(X), np.array(y)\n",
        "\n",
        "# Prepare the data\n",
        "look_back = 10  # Number of previous days to use for prediction\n",
        "X, y = prepare_data(df, look_back)\n",
        "\n",
        "# Print the shape of the data to verify it\n",
        "print(f\"Shape of X: {X.shape}\")\n",
        "print(f\"Shape of y: {y.shape}\")\n"
      ],
      "metadata": {
        "colab": {
          "base_uri": "https://localhost:8080/"
        },
        "id": "aqXarYo_KBvG",
        "outputId": "bb264529-4d66-491f-c652-bf7e98aaafe1"
      },
      "execution_count": 117,
      "outputs": [
        {
          "output_type": "stream",
          "name": "stdout",
          "text": [
            "Shape of X: (192, 10, 6)\n",
            "Shape of y: (192,)\n"
          ]
        }
      ]
    },
    {
      "cell_type": "code",
      "source": [
        "def create_model(input_shape):\n",
        "    model = Sequential()\n",
        "\n",
        "    # LSTM Layer\n",
        "    model.add(LSTM(64, input_shape=input_shape, return_sequences=True))\n",
        "    model.add(Dropout(0.2))  # Dropout layer to reduce overfitting\n",
        "\n",
        "    # Another LSTM Layer\n",
        "    model.add(LSTM(32, return_sequences=False))\n",
        "    model.add(Dropout(0.2))\n",
        "\n",
        "    # Fully connected layer\n",
        "    model.add(Dense(16, activation='relu'))\n",
        "\n",
        "    # Output layer (binary classification: 0 or 1)\n",
        "    model.add(Dense(1, activation='sigmoid'))\n",
        "\n",
        "    # Compile the model\n",
        "    model.compile(optimizer='adam', loss='binary_crossentropy', metrics=['accuracy'])\n",
        "\n",
        "    return model\n"
      ],
      "metadata": {
        "id": "ZEvRaF4AKLnI"
      },
      "execution_count": 118,
      "outputs": []
    },
    {
      "cell_type": "code",
      "source": [
        "from sklearn.model_selection import train_test_split\n",
        "from tensorflow.keras.callbacks import EarlyStopping\n",
        "\n",
        "\n",
        "# Split the data into training and testing sets\n",
        "X_train, X_test, y_train, y_test = train_test_split(X, y, test_size=0.2, shuffle=False)\n",
        "\n",
        "# Create the model\n",
        "model = create_model(X_train.shape[1:])\n",
        "\n",
        "# Early stopping callback to prevent overfitting\n",
        "# early_stopping = EarlyStopping(monitor='val_loss', patience=3, restore_best_weights=True)\n",
        "\n",
        "# Train the model\n",
        "history = model.fit(X_train, y_train, epochs=10, batch_size=32, validation_data=(X_test, y_test))\n",
        "\n",
        "# Evaluate the model\n",
        "train_score = model.evaluate(X_train, y_train, verbose=0)\n",
        "test_score = model.evaluate(X_test, y_test, verbose=0)\n",
        "\n",
        "print(f\"Train accuracy: {train_score[1]:.4f}\")\n",
        "print(f\"Test accuracy: {test_score[1]:.4f}\")\n"
      ],
      "metadata": {
        "colab": {
          "base_uri": "https://localhost:8080/"
        },
        "id": "vFJlwUFU1x7k",
        "outputId": "37e5b403-70ca-411e-8ccf-85e3a2c235f0"
      },
      "execution_count": 119,
      "outputs": [
        {
          "output_type": "stream",
          "name": "stdout",
          "text": [
            "Epoch 1/10\n"
          ]
        },
        {
          "output_type": "stream",
          "name": "stderr",
          "text": [
            "/usr/local/lib/python3.11/dist-packages/keras/src/layers/rnn/rnn.py:200: UserWarning:\n",
            "\n",
            "Do not pass an `input_shape`/`input_dim` argument to a layer. When using Sequential models, prefer using an `Input(shape)` object as the first layer in the model instead.\n",
            "\n"
          ]
        },
        {
          "output_type": "stream",
          "name": "stdout",
          "text": [
            "\u001b[1m5/5\u001b[0m \u001b[32m━━━━━━━━━━━━━━━━━━━━\u001b[0m\u001b[37m\u001b[0m \u001b[1m7s\u001b[0m 184ms/step - accuracy: 0.4689 - loss: 0.6991 - val_accuracy: 0.4103 - val_loss: 0.6984\n",
            "Epoch 2/10\n",
            "\u001b[1m5/5\u001b[0m \u001b[32m━━━━━━━━━━━━━━━━━━━━\u001b[0m\u001b[37m\u001b[0m \u001b[1m1s\u001b[0m 35ms/step - accuracy: 0.5458 - loss: 0.6874 - val_accuracy: 0.4615 - val_loss: 0.6996\n",
            "Epoch 3/10\n",
            "\u001b[1m5/5\u001b[0m \u001b[32m━━━━━━━━━━━━━━━━━━━━\u001b[0m\u001b[37m\u001b[0m \u001b[1m0s\u001b[0m 35ms/step - accuracy: 0.5545 - loss: 0.6857 - val_accuracy: 0.4872 - val_loss: 0.7015\n",
            "Epoch 4/10\n",
            "\u001b[1m5/5\u001b[0m \u001b[32m━━━━━━━━━━━━━━━━━━━━\u001b[0m\u001b[37m\u001b[0m \u001b[1m0s\u001b[0m 34ms/step - accuracy: 0.5450 - loss: 0.6827 - val_accuracy: 0.4872 - val_loss: 0.7029\n",
            "Epoch 5/10\n",
            "\u001b[1m5/5\u001b[0m \u001b[32m━━━━━━━━━━━━━━━━━━━━\u001b[0m\u001b[37m\u001b[0m \u001b[1m0s\u001b[0m 31ms/step - accuracy: 0.5967 - loss: 0.6832 - val_accuracy: 0.4872 - val_loss: 0.7048\n",
            "Epoch 6/10\n",
            "\u001b[1m5/5\u001b[0m \u001b[32m━━━━━━━━━━━━━━━━━━━━\u001b[0m\u001b[37m\u001b[0m \u001b[1m0s\u001b[0m 31ms/step - accuracy: 0.5802 - loss: 0.6789 - val_accuracy: 0.5128 - val_loss: 0.7083\n",
            "Epoch 7/10\n",
            "\u001b[1m5/5\u001b[0m \u001b[32m━━━━━━━━━━━━━━━━━━━━\u001b[0m\u001b[37m\u001b[0m \u001b[1m0s\u001b[0m 33ms/step - accuracy: 0.5281 - loss: 0.6868 - val_accuracy: 0.5385 - val_loss: 0.7070\n",
            "Epoch 8/10\n",
            "\u001b[1m5/5\u001b[0m \u001b[32m━━━━━━━━━━━━━━━━━━━━\u001b[0m\u001b[37m\u001b[0m \u001b[1m0s\u001b[0m 31ms/step - accuracy: 0.5828 - loss: 0.6788 - val_accuracy: 0.5385 - val_loss: 0.7060\n",
            "Epoch 9/10\n",
            "\u001b[1m5/5\u001b[0m \u001b[32m━━━━━━━━━━━━━━━━━━━━\u001b[0m\u001b[37m\u001b[0m \u001b[1m0s\u001b[0m 39ms/step - accuracy: 0.5876 - loss: 0.6696 - val_accuracy: 0.5128 - val_loss: 0.7065\n",
            "Epoch 10/10\n",
            "\u001b[1m5/5\u001b[0m \u001b[32m━━━━━━━━━━━━━━━━━━━━\u001b[0m\u001b[37m\u001b[0m \u001b[1m0s\u001b[0m 31ms/step - accuracy: 0.5533 - loss: 0.6887 - val_accuracy: 0.5128 - val_loss: 0.7047\n",
            "Train accuracy: 0.6144\n",
            "Test accuracy: 0.5128\n"
          ]
        }
      ]
    },
    {
      "cell_type": "code",
      "source": [
        "# Load the unseen data\n",
        "unseen_data = pd.read_csv('unseen_stock_data_200.csv', index_col='Date', parse_dates=True)\n",
        "\n",
        "# Calculate SMA (for example, 5, 20, and 50 days)\n",
        "unseen_data['SMA_5'] = unseen_data['Close'].rolling(window=5).mean()\n",
        "unseen_data['SMA_20'] = unseen_data['Close'].rolling(window=20).mean()\n",
        "unseen_data['SMA_50'] = unseen_data['Close'].rolling(window=50).mean()\n",
        "\n",
        "# Calculate price changes\n",
        "unseen_data['Price Change'] = df['Close'].pct_change()\n",
        "\n",
        "# Calculate target (1 if tomorrow's price is higher, 0 if lower)\n",
        "unseen_data['Target'] = (df['Close'].shift(-1) > df['Close']).astype(int)\n",
        "\n",
        "# Calculate RSI (Relative Strength Index)\n",
        "delta = unseen_data['Close'].diff()\n",
        "gain = (delta.where(delta > 0, 0).rolling(window=14).mean())\n",
        "loss = (-delta.where(delta < 0, 0).rolling(window=14).mean())\n",
        "rs = gain / loss\n",
        "unseen_data['RSI'] = 100 - (100 / (1 + rs))\n",
        "\n",
        "# print(unseen_data.head())\n",
        "print(unseen_data.tail())\n",
        "\n"
      ],
      "metadata": {
        "colab": {
          "base_uri": "https://localhost:8080/"
        },
        "id": "tcmEh6GdBv16",
        "outputId": "7cb99056-1c6f-4094-924f-09269b7006e6"
      },
      "execution_count": 120,
      "outputs": [
        {
          "output_type": "stream",
          "name": "stdout",
          "text": [
            "              Open    High     Low   Close    Volume    SMA_5    SMA_20  \\\n",
            "Date                                                                      \n",
            "2025-01-08  421.93  422.73  420.00  420.65  16611754  420.004  420.5770   \n",
            "2025-01-09  415.58  416.37  414.19  415.99  16114593  418.332  420.3750   \n",
            "2025-01-10  420.77  422.89  417.80  420.38  16226952  418.326  419.9455   \n",
            "2025-01-13  420.29  422.66  418.28  420.81  20931161  419.672  420.0610   \n",
            "2025-01-14  414.29  416.25  413.20  414.82  21790593  418.530  419.0550   \n",
            "\n",
            "              SMA_50  Price Change  Target        RSI  \n",
            "Date                                                   \n",
            "2025-01-08  420.6266     -0.000214     0.0  54.250672  \n",
            "2025-01-09  420.6444           NaN     NaN  51.963309  \n",
            "2025-01-10  420.7422     -0.029976     0.0  46.021700  \n",
            "2025-01-13  420.7266     -0.019719     0.0  52.208997  \n",
            "2025-01-14  420.5582     -0.011034     1.0  41.448017  \n"
          ]
        }
      ]
    },
    {
      "cell_type": "code",
      "source": [
        "# Make Prediction for tomorrow\n",
        "last_sequence = X[-1:]  # Get the last sequence from the data\n",
        "tomorrow_pred = model.predict(last_sequence)[0][0]\n",
        "\n",
        "# Output the prediction\n",
        "print(f\"\\nPrediction for tomorrow:\")\n",
        "print(f\"Probability of price increase: {tomorrow_pred:.2%}\")\n",
        "print(f\"Predicted direction: {'UP' if tomorrow_pred > 0.5 else 'DOWN'}\")\n"
      ],
      "metadata": {
        "colab": {
          "base_uri": "https://localhost:8080/"
        },
        "id": "i4nByvCJ10Jm",
        "outputId": "953a3760-91f3-4a8b-f583-154a64182670"
      },
      "execution_count": 121,
      "outputs": [
        {
          "output_type": "stream",
          "name": "stdout",
          "text": [
            "\u001b[1m1/1\u001b[0m \u001b[32m━━━━━━━━━━━━━━━━━━━━\u001b[0m\u001b[37m\u001b[0m \u001b[1m0s\u001b[0m 372ms/step\n",
            "\n",
            "Prediction for tomorrow:\n",
            "Probability of price increase: 62.11%\n",
            "Predicted direction: UP\n"
          ]
        }
      ]
    },
    {
      "cell_type": "code",
      "source": [
        "!git init\n"
      ],
      "metadata": {
        "colab": {
          "base_uri": "https://localhost:8080/"
        },
        "id": "npaoBtm49vdm",
        "outputId": "e43cb9ec-db48-4ba8-b9bb-4820a2359ae4"
      },
      "execution_count": 122,
      "outputs": [
        {
          "output_type": "stream",
          "name": "stdout",
          "text": [
            "\u001b[33mhint: Using 'master' as the name for the initial branch. This default branch name\u001b[m\n",
            "\u001b[33mhint: is subject to change. To configure the initial branch name to use in all\u001b[m\n",
            "\u001b[33mhint: of your new repositories, which will suppress this warning, call:\u001b[m\n",
            "\u001b[33mhint: \u001b[m\n",
            "\u001b[33mhint: \tgit config --global init.defaultBranch <name>\u001b[m\n",
            "\u001b[33mhint: \u001b[m\n",
            "\u001b[33mhint: Names commonly chosen instead of 'master' are 'main', 'trunk' and\u001b[m\n",
            "\u001b[33mhint: 'development'. The just-created branch can be renamed via this command:\u001b[m\n",
            "\u001b[33mhint: \u001b[m\n",
            "\u001b[33mhint: \tgit branch -m <name>\u001b[m\n",
            "Initialized empty Git repository in /content/.git/\n"
          ]
        }
      ]
    },
    {
      "cell_type": "code",
      "source": [
        "|"
      ],
      "metadata": {
        "id": "sBrP5ubTa_ca"
      },
      "execution_count": null,
      "outputs": []
    }
  ]
}